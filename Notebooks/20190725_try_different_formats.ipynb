{
 "cells": [
  {
   "cell_type": "code",
   "execution_count": 1,
   "metadata": {},
   "outputs": [],
   "source": [
    "import numpy as np\n",
    "import pandas as pd"
   ]
  },
  {
   "cell_type": "code",
   "execution_count": 2,
   "metadata": {},
   "outputs": [],
   "source": [
    "df = pd.read_csv('../20190725_obs_sug_pipe_separated.txt', sep='|')"
   ]
  },
  {
   "cell_type": "code",
   "execution_count": 3,
   "metadata": {},
   "outputs": [
    {
     "data": {
      "text/html": [
       "<div>\n",
       "<style scoped>\n",
       "    .dataframe tbody tr th:only-of-type {\n",
       "        vertical-align: middle;\n",
       "    }\n",
       "\n",
       "    .dataframe tbody tr th {\n",
       "        vertical-align: top;\n",
       "    }\n",
       "\n",
       "    .dataframe thead th {\n",
       "        text-align: right;\n",
       "    }\n",
       "</style>\n",
       "<table border=\"1\" class=\"dataframe\">\n",
       "  <thead>\n",
       "    <tr style=\"text-align: right;\">\n",
       "      <th></th>\n",
       "      <th>name</th>\n",
       "      <th>session</th>\n",
       "      <th>type</th>\n",
       "      <th>item</th>\n",
       "      <th>sessionset</th>\n",
       "      <th>OBS</th>\n",
       "      <th>Sug</th>\n",
       "    </tr>\n",
       "  </thead>\n",
       "  <tbody>\n",
       "    <tr>\n",
       "      <th>0</th>\n",
       "      <td>Carolyn Greenberg</td>\n",
       "      <td>5157</td>\n",
       "      <td>3026</td>\n",
       "      <td>3401</td>\n",
       "      <td>48</td>\n",
       "      <td>Passage seems to be at independent reading lev...</td>\n",
       "      <td>check comprehension in similarly leveled text ...</td>\n",
       "    </tr>\n",
       "    <tr>\n",
       "      <th>1</th>\n",
       "      <td>Sharilyn Fetterhoff-Bacci</td>\n",
       "      <td>5157</td>\n",
       "      <td>3026</td>\n",
       "      <td>3401</td>\n",
       "      <td>50</td>\n",
       "      <td>reads carefully and with attention to punctuat...</td>\n",
       "      <td>Work on reading with expression; teach proper ...</td>\n",
       "    </tr>\n",
       "    <tr>\n",
       "      <th>2</th>\n",
       "      <td>Susan Barber</td>\n",
       "      <td>5157</td>\n",
       "      <td>3026</td>\n",
       "      <td>3401</td>\n",
       "      <td>50</td>\n",
       "      <td>Good, generally accurate reader; reads in mean...</td>\n",
       "      <td>Increase oral reading stamina by reading easie...</td>\n",
       "    </tr>\n",
       "    <tr>\n",
       "      <th>3</th>\n",
       "      <td>Lindsay Wyman</td>\n",
       "      <td>5159</td>\n",
       "      <td>3026</td>\n",
       "      <td>3302</td>\n",
       "      <td>47</td>\n",
       "      <td>$OBS: flat intonation; passage seems slightly ...</td>\n",
       "      <td>$SUG: repeated readings to increase fluency an...</td>\n",
       "    </tr>\n",
       "    <tr>\n",
       "      <th>4</th>\n",
       "      <td>Sharilyn Fetterhoff-Bacci</td>\n",
       "      <td>5159</td>\n",
       "      <td>3026</td>\n",
       "      <td>3302</td>\n",
       "      <td>50</td>\n",
       "      <td>$obs: reads in longer phrases; adequate pace a...</td>\n",
       "      <td>$sug: work on reading with expression; model r...</td>\n",
       "    </tr>\n",
       "  </tbody>\n",
       "</table>\n",
       "</div>"
      ],
      "text/plain": [
       "                        name  session  type  item  sessionset  \\\n",
       "0          Carolyn Greenberg     5157  3026  3401          48   \n",
       "1  Sharilyn Fetterhoff-Bacci     5157  3026  3401          50   \n",
       "2               Susan Barber     5157  3026  3401          50   \n",
       "3              Lindsay Wyman     5159  3026  3302          47   \n",
       "4  Sharilyn Fetterhoff-Bacci     5159  3026  3302          50   \n",
       "\n",
       "                                                 OBS  \\\n",
       "0  Passage seems to be at independent reading lev...   \n",
       "1  reads carefully and with attention to punctuat...   \n",
       "2  Good, generally accurate reader; reads in mean...   \n",
       "3  $OBS: flat intonation; passage seems slightly ...   \n",
       "4  $obs: reads in longer phrases; adequate pace a...   \n",
       "\n",
       "                                                 Sug  \n",
       "0  check comprehension in similarly leveled text ...  \n",
       "1  Work on reading with expression; teach proper ...  \n",
       "2  Increase oral reading stamina by reading easie...  \n",
       "3  $SUG: repeated readings to increase fluency an...  \n",
       "4  $sug: work on reading with expression; model r...  "
      ]
     },
     "execution_count": 3,
     "metadata": {},
     "output_type": "execute_result"
    }
   ],
   "source": [
    "df = df[df.columns[1:]]\n",
    "df.head()"
   ]
  },
  {
   "cell_type": "code",
   "execution_count": 4,
   "metadata": {},
   "outputs": [],
   "source": [
    "train_examples = []\n",
    "\n",
    "for r in df.iterrows():\n",
    "    r_n, row_series = r\n",
    "    \n",
    "    obs = row_series.OBS.lower().replace('$obs:', '').replace('$obs', '').strip()\n",
    "    sug = row_series.Sug.lower().replace('$sug:', '').replace('$sug', '').strip()\n",
    "    difficulty = row_series.type\n",
    "    kid = row_series.session\n",
    "    evaluator = row_series['name']\n",
    "    passage = row_series['item']\n",
    "    tpl = tuple([str(kid), str(passage), str(difficulty), str(evaluator), str(obs), str(sug)])\n",
    "    train_examples.append(tpl)"
   ]
  },
  {
   "cell_type": "code",
   "execution_count": 5,
   "metadata": {},
   "outputs": [],
   "source": [
    "from xml.etree import ElementTree\n",
    "from xml.etree.ElementTree import Element, SubElement, tostring"
   ]
  },
  {
   "cell_type": "code",
   "execution_count": 6,
   "metadata": {},
   "outputs": [],
   "source": [
    "reading_id_to_obs_and_sug = {}\n",
    "for ex in train_examples:\n",
    "    try:\n",
    "        reading_id_to_obs_and_sug[ex[:3]].append(ex[3:])\n",
    "    except KeyError:\n",
    "        reading_id_to_obs_and_sug[ex[:3]] = [ex[3:]]"
   ]
  },
  {
   "cell_type": "code",
   "execution_count": 7,
   "metadata": {},
   "outputs": [],
   "source": [
    "root = Element('root')\n",
    "for reading_id, eval_obs_sugs in reading_id_to_obs_and_sug.items():\n",
    "    kid, passage, difficulty = reading_id\n",
    "    ReadingExample = SubElement(root, 'ReadingExample')\n",
    "    \n",
    "    ReaderID = SubElement(ReadingExample, 'ReaderID')\n",
    "    PassageID = SubElement(ReadingExample, 'PassageID')\n",
    "    PassageType = SubElement(ReadingExample, 'PassageType')\n",
    "    ReaderID.text = kid\n",
    "    PassageID.text = passage\n",
    "    PassageType.text = difficulty\n",
    "    \n",
    "    EvaluationList = SubElement(ReadingExample, 'EvaluationList')\n",
    "    for eval_obs_sug in eval_obs_sugs:\n",
    "        evaluator, obs, sug = eval_obs_sug\n",
    "        Evaluation = SubElement(EvaluationList, 'Evaluation')\n",
    "        obs_list = [x.strip().lower() for x in obs.split(';') if x]\n",
    "        sug_list = [x.strip().lower() for x in sug.split(';') if x]\n",
    "        Evaluator = SubElement(Evaluation, 'Evaluator')\n",
    "        Evaluator.text = evaluator.lower()\n",
    "        ObservationsList = SubElement(Evaluation, 'ObservationsList')\n",
    "        for o in obs_list:\n",
    "            Observation = SubElement(ObservationsList, 'Observation')\n",
    "            Observation.text = o\n",
    "        SuggestionsList = SubElement(Evaluation, 'SuggestionsList')\n",
    "        for s in sug_list:\n",
    "            Suggestion = SubElement(Evaluation, 'Suggestion')\n",
    "            Suggestion.text = s\n",
    "    "
   ]
  },
  {
   "cell_type": "code",
   "execution_count": 8,
   "metadata": {},
   "outputs": [],
   "source": [
    "def indent(elem, level=0):\n",
    "    i = \"\\n\" + level*\"  \"\n",
    "    j = \"\\n\" + (level-1)*\"  \"\n",
    "    if len(elem):\n",
    "        if not elem.text or not elem.text.strip():\n",
    "            elem.text = i + \"  \"\n",
    "        if not elem.tail or not elem.tail.strip():\n",
    "            elem.tail = i\n",
    "        for subelem in elem:\n",
    "            indent(subelem, level+1)\n",
    "        if not elem.tail or not elem.tail.strip():\n",
    "            elem.tail = j\n",
    "    else:\n",
    "        if level and (not elem.tail or not elem.tail.strip()):\n",
    "            elem.tail = j\n",
    "    return elem        \n"
   ]
  },
  {
   "cell_type": "code",
   "execution_count": 9,
   "metadata": {},
   "outputs": [
    {
     "data": {
      "text/plain": [
       "222"
      ]
     },
     "execution_count": 9,
     "metadata": {},
     "output_type": "execute_result"
    }
   ],
   "source": [
    "len(train_examples)"
   ]
  },
  {
   "cell_type": "code",
   "execution_count": 10,
   "metadata": {},
   "outputs": [],
   "source": [
    "out = ElementTree.ElementTree(root)\n",
    "# out.write('FINAL_OBS_AND_SUGS.xml')"
   ]
  },
  {
   "cell_type": "code",
   "execution_count": 11,
   "metadata": {},
   "outputs": [],
   "source": [
    "all_train_ex_json_format = []\n",
    "\n",
    "for reading_id, eval_obs_sugs in reading_id_to_obs_and_sug.items():\n",
    "    kid, passage, difficulty = reading_id\n",
    "    d = {\n",
    "        'ReaderID': kid,\n",
    "        'PassageID': passage,\n",
    "        'PassageType': difficulty,\n",
    "        'Evaluations': []\n",
    "    }\n",
    "    for e_o_s in eval_obs_sugs:\n",
    "        evaluator, observations, suggestions = e_o_s\n",
    "        evaluator = evaluator.lower()\n",
    "        obs_list = [x.strip().lower() for x in observations.split(';') if x]\n",
    "        sug_list = [x.strip().lower() for x in suggestions.split(';') if x]\n",
    "        evaluation = {\n",
    "            'Evaluator': evaluator,\n",
    "            'Observations': obs_list,\n",
    "            'Suggestions': sug_list\n",
    "        }\n",
    "        d['Evaluations'].append(evaluation)\n",
    "        \n",
    "    all_train_ex_json_format.append(d)"
   ]
  },
  {
   "cell_type": "code",
   "execution_count": 12,
   "metadata": {},
   "outputs": [],
   "source": [
    "import json\n",
    "# with open('FINAL_OBS_AND_SUG.json', 'x') as f:\n",
    "#     json.dump(all_train_ex_json_format, f, indent=2)"
   ]
  }
 ],
 "metadata": {
  "kernelspec": {
   "display_name": "Python 3",
   "language": "python",
   "name": "python3"
  },
  "language_info": {
   "codemirror_mode": {
    "name": "ipython",
    "version": 3
   },
   "file_extension": ".py",
   "mimetype": "text/x-python",
   "name": "python",
   "nbconvert_exporter": "python",
   "pygments_lexer": "ipython3",
   "version": "3.7.3"
  }
 },
 "nbformat": 4,
 "nbformat_minor": 2
}
