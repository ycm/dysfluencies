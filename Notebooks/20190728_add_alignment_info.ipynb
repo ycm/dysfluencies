{
 "cells": [
  {
   "cell_type": "code",
   "execution_count": 1,
   "metadata": {},
   "outputs": [],
   "source": [
    "import json\n",
    "import pandas as pd"
   ]
  },
  {
   "cell_type": "code",
   "execution_count": 2,
   "metadata": {},
   "outputs": [],
   "source": [
    "with open('../ALL_OBS_SUGS_AND_CATEGORIES.json') as f:\n",
    "    readings = json.load(f)"
   ]
  },
  {
   "cell_type": "code",
   "execution_count": 3,
   "metadata": {},
   "outputs": [],
   "source": [
    "unique_key_to_xcript = {}\n",
    "unique_key_to_response_id = {}\n",
    "for r in pd.read_csv('../6083_ForceAlignment/recs.csv').iterrows():\n",
    "    row = r[1]\n",
    "    kid = row['session']\n",
    "    passage = row['item']\n",
    "    difficulty = row['type']\n",
    "    key = str(kid), str(passage), str(difficulty)\n",
    "    unique_key_to_xcript[key] = row['transcription']\n",
    "    unique_key_to_response_id[key] = str(row.rec)"
   ]
  },
  {
   "cell_type": "code",
   "execution_count": 4,
   "metadata": {},
   "outputs": [],
   "source": [
    "with open('../6083_ForceAlignment/recwords.json') as f:\n",
    "    recwords = json.load(f)"
   ]
  },
  {
   "cell_type": "code",
   "execution_count": 5,
   "metadata": {},
   "outputs": [],
   "source": [
    "for idx, r in enumerate(readings):\n",
    "    key = r['ReaderID'], r['PassageID'], r['PassageType']\n",
    "    xscript = unique_key_to_xcript[key]\n",
    "    readings[idx]['Transcript'] = xscript\n",
    "    readings[idx]['Words'] = recwords[unique_key_to_response_id[key]]"
   ]
  },
  {
   "cell_type": "code",
   "execution_count": 7,
   "metadata": {},
   "outputs": [],
   "source": [
    "# with open('../COMPLETE_READINGS.json', 'x') as f:\n",
    "#     json.dump(readings, f, indent=2)"
   ]
  }
 ],
 "metadata": {
  "kernelspec": {
   "display_name": "Python 3",
   "language": "python",
   "name": "python3"
  },
  "language_info": {
   "codemirror_mode": {
    "name": "ipython",
    "version": 3
   },
   "file_extension": ".py",
   "mimetype": "text/x-python",
   "name": "python",
   "nbconvert_exporter": "python",
   "pygments_lexer": "ipython3",
   "version": "3.7.3"
  }
 },
 "nbformat": 4,
 "nbformat_minor": 2
}
