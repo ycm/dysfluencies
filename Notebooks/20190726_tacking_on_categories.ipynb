{
 "cells": [
  {
   "cell_type": "markdown",
   "metadata": {},
   "source": [
    "(I've decided to go with JSON format for now)"
   ]
  },
  {
   "cell_type": "code",
   "execution_count": 1,
   "metadata": {},
   "outputs": [],
   "source": [
    "import json"
   ]
  },
  {
   "cell_type": "code",
   "execution_count": 2,
   "metadata": {},
   "outputs": [],
   "source": [
    "# get excluded obs, sug\n",
    "excl_obs = set()\n",
    "with open('../susan_obs_sug_by_hand/obs_residue_for_getting_excluded_lines.tsv') as f:\n",
    "    next(f)\n",
    "    for line in f:\n",
    "        ln = line.strip().split('\\t')\n",
    "        if len(ln) == 3:\n",
    "            if '?' in ln[-1]:\n",
    "#                 print(ln[1])\n",
    "                pass\n",
    "            else:\n",
    "                pass\n",
    "        else:\n",
    "            assert len(ln) == 2\n",
    "            if 'UNCAT' in ln[0]:\n",
    "                excl_obs.add(ln[1])"
   ]
  },
  {
   "cell_type": "code",
   "execution_count": 3,
   "metadata": {},
   "outputs": [],
   "source": [
    "with open('../FINAL_OBS_AND_SUG.json') as f:\n",
    "    data = json.load(f)\n",
    "all_obs = [\n",
    "    o.replace(',', '').replace('.', '').replace('/', ' ').replace('word by word', 'word-by-word').strip()\n",
    "    for ex in data\n",
    "    for ev in ex['Evaluations']\n",
    "    for o in ev['Observations']\n",
    "]\n",
    "all_obs[:] = (' '.join(x.split()).replace('\"', '') for x in all_obs)\n",
    "# with open('../obs_loaded_from_json.json', 'x') as f:\n",
    "#     json.dump(all_obs, f, indent=2)\n",
    "all_sug = [\n",
    "    s.replace(',', '').replace('.', '').replace('word by word', 'word-by-word').strip().replace('\"', '')\n",
    "    for ex in data\n",
    "    for ev in ex['Evaluations']\n",
    "    for s in ev['Suggestions']\n",
    "]\n",
    "# with open('../sug_loaded_from_json.json', 'x') as f:\n",
    "#     json.dump(all_sug, f, indent=2)"
   ]
  },
  {
   "cell_type": "code",
   "execution_count": 4,
   "metadata": {},
   "outputs": [],
   "source": [
    "with open('../susan_obs_sug_by_hand/OBS_JSON_CLEAN.json') as f:\n",
    "    obs_to_cats = json.load(f)\n",
    "new = {}\n",
    "for x, y in obs_to_cats.items():\n",
    "    x = x.replace(',', '').replace('.', '').replace('word by word', 'word-by-word').strip()\n",
    "    x = ' '.join(x.split())\n",
    "    new[x] = y\n",
    "obs_to_cats = new"
   ]
  },
  {
   "cell_type": "code",
   "execution_count": 5,
   "metadata": {},
   "outputs": [],
   "source": [
    "obs_dont_have = set()\n",
    "for o in all_obs:\n",
    "    if o in excl_obs:\n",
    "        continue\n",
    "        \n",
    "    if o in obs_to_cats:\n",
    "        pass"
   ]
  },
  {
   "cell_type": "code",
   "execution_count": 6,
   "metadata": {},
   "outputs": [],
   "source": [
    "for x in obs_dont_have:\n",
    "    print(x)"
   ]
  },
  {
   "cell_type": "code",
   "execution_count": 7,
   "metadata": {},
   "outputs": [
    {
     "data": {
      "text/plain": [
       "0"
      ]
     },
     "execution_count": 7,
     "metadata": {},
     "output_type": "execute_result"
    }
   ],
   "source": [
    "len(obs_dont_have)"
   ]
  },
  {
   "cell_type": "code",
   "execution_count": 8,
   "metadata": {},
   "outputs": [
    {
     "name": "stdout",
     "output_type": "stream",
     "text": [
      "['EXPRESSION', 'PHRASING', 'RATE']\n",
      "['EXPRESSION', 'RATE']\n",
      "['ACCURACY', 'MONITORING_FOR_MEANING']\n",
      "['MONITORING_FOR_MEANING', 'MULTISYLLABIC_WORDS']\n",
      "['FLUENCY', 'RATE']\n",
      "['RATE', 'SUBSTITUTION_REVERSAL']\n",
      "['FLUENCY', 'PHRASING', 'RATE']\n",
      "['FLUENCY', 'RATE']\n",
      "['OMISSION_INSERTION', 'SUBSTITUTION_REVERSAL']\n",
      "['MONITORING_FOR_MEANING', 'SUBSTITUTION_REVERSAL']\n",
      "['OMISSION', 'SUBSTITUTION_REVERSAL']\n",
      "['EXPRESSION', 'PHRASING', 'RATE']\n",
      "['ACCURACY', 'MONITORING_FOR_MEANING']\n",
      "['FLUENCY', 'MONITORING_FOR_MEANING']\n",
      "['ACCURACY', 'MONITORING_FOR_MEANING']\n",
      "['PHRASING', 'RATE']\n",
      "['OMISSION', 'RATE', 'SUBSTITUTION_REVERSAL']\n",
      "['OMISSION_INSERTION', 'SUBSTITUTION_REVERSAL']\n",
      "['ACCURACY', 'MONITORING_FOR_MEANING']\n",
      "['ACCURACY', 'MONITORING_FOR_MEANING']\n",
      "['PHRASING', 'RATE']\n"
     ]
    }
   ],
   "source": [
    "all_obs = [\n",
    "    o.replace(',', '').replace('.', '').replace('/', ' ').replace('word by word', 'word-by-word').strip()\n",
    "    for ex in data\n",
    "    for ev in ex['Evaluations']\n",
    "    for o in ev['Observations']\n",
    "]\n",
    "lost = 0\n",
    "for ex in data:\n",
    "    for ev in ex['Evaluations']:\n",
    "        observations_to_collections = {}\n",
    "        for o in ev['Observations']:\n",
    "            _o_ = o.replace(',', '').replace('.', '').replace('/', ' ').replace('word by word', 'word-by-word').replace('\"', '').strip()\n",
    "            _o_ = ' '.join(_o_.split())\n",
    "            if _o_ not in obs_to_cats and _o_ not in excl_obs:\n",
    "                lost += 1\n",
    "            if _o_ in obs_to_cats:\n",
    "                categories = sorted(obs_to_cats[_o_])\n",
    "                if len(categories) != 1:\n",
    "                    print(categories)\n",
    "                observations_to_collections[_o_] = categories\n",
    "        ev['Observations'] = observations_to_collections"
   ]
  },
  {
   "cell_type": "code",
   "execution_count": 9,
   "metadata": {},
   "outputs": [],
   "source": [
    "def normalize_string(s):\n",
    "    s = s.replace(',', '').replace('multi-syllable', 'multisyllabic').replace('.', '').replace('\"', '').replace(\"'\", '')\n",
    "    return ' '.join(s.split())"
   ]
  },
  {
   "cell_type": "code",
   "execution_count": 10,
   "metadata": {},
   "outputs": [],
   "source": [
    "with open('../susan_obs_sug_by_hand/SUG_JSON_CLEAN.json') as f:\n",
    "    labeled_sugs = json.load(f)\n",
    "\n",
    "normalized_labeled_sugs = {}\n",
    "for s, cats in labeled_sugs.items():\n",
    "    normalized_labeled_sugs[normalize_string(s)] = cats"
   ]
  },
  {
   "cell_type": "code",
   "execution_count": 11,
   "metadata": {},
   "outputs": [],
   "source": [
    "# add suggestion categories\n",
    "not_found = []\n",
    "for ex in data:\n",
    "    for ev in ex['Evaluations']:\n",
    "        sug_to_cats = {}\n",
    "        for sug in ev['Suggestions']:\n",
    "            if normalize_string(sug) not in normalized_labeled_sugs:\n",
    "                not_found.append(normalize_string(sug))\n",
    "            elif 'UNCATEGORIZED' not in normalized_labeled_sugs[normalize_string(sug)]:\n",
    "                sug_to_cats[sug] = normalized_labeled_sugs[normalize_string(sug)]\n",
    "        ev['Suggestions'] = sug_to_cats\n",
    "# print(len(not_found))\n",
    "# not_found\n",
    "# with open('../ALL_OBS_SUGS_AND_CATEGORIES.json', 'x') as f:\n",
    "#     json.dump(data, f, indent=2)"
   ]
  }
 ],
 "metadata": {
  "kernelspec": {
   "display_name": "Python 3",
   "language": "python",
   "name": "python3"
  },
  "language_info": {
   "codemirror_mode": {
    "name": "ipython",
    "version": 3
   },
   "file_extension": ".py",
   "mimetype": "text/x-python",
   "name": "python",
   "nbconvert_exporter": "python",
   "pygments_lexer": "ipython3",
   "version": "3.7.3"
  }
 },
 "nbformat": 4,
 "nbformat_minor": 2
}
