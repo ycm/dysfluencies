{
 "cells": [
  {
   "cell_type": "code",
   "execution_count": 1,
   "metadata": {},
   "outputs": [],
   "source": [
    "import sys, os, pickle, json"
   ]
  },
  {
   "cell_type": "code",
   "execution_count": 41,
   "metadata": {},
   "outputs": [
    {
     "data": {
      "text/plain": [
       "['epr_main_fields.pkl',\n",
       " 'with_epr.pkl',\n",
       " 'manually_filtered.pkl',\n",
       " 'leftover_lines.pkl']"
      ]
     },
     "execution_count": 41,
     "metadata": {},
     "output_type": "execute_result"
    }
   ],
   "source": [
    "os.listdir('PklData/')"
   ]
  },
  {
   "cell_type": "code",
   "execution_count": 82,
   "metadata": {},
   "outputs": [],
   "source": [
    "categ_to_lines = pickle.load(open('PklData/with_epr.pkl', 'rb'))\n",
    "manually_filtered = pickle.load(open('PklData/manually_filtered.pkl', 'rb'))\n",
    "leftover_lines = pickle.load(open('PklData/leftover_lines.pkl', 'rb'))"
   ]
  },
  {
   "cell_type": "code",
   "execution_count": 83,
   "metadata": {},
   "outputs": [
    {
     "name": "stdout",
     "output_type": "stream",
     "text": [
      "('CLASSICDescriptors', 'Substitutions')\n",
      "('CLASSICDescriptors', 'False starts')\n",
      "('CLASSICDescriptors', 'Miscues')\n",
      "('CLASSICDescriptors', 'Omissions ')\n",
      "('CLASSICDescriptors', 'Stamina')\n",
      "('CLASSICDescriptors', 'Guesses at words')\n",
      "('CLASSICDescriptors', 'Insertions')\n",
      "('CLASSICDescriptors', 'Visual Cues')\n",
      "('LanguageSkills', 'Vocabulary')\n",
      "('LanguageSkills', 'Syntax')\n",
      "('LanguageSkills', 'Morphology (affixes, word analysis)')\n",
      "('LanguageSkills', 'Pronunciation')\n",
      "('ReadingPerformance', 'Punctuation')\n",
      "('ReadingPerformance', 'Rate/Pace')\n",
      "('ReadingPerformance', 'Intonation')\n",
      "('ReadingPerformance', 'Expression/Phrasing')\n",
      "('ReadingPerformance', 'Pausing')\n",
      "('ReadingPerformance', 'Fluency')\n",
      "('SpecificSkills', 'Self-correction')\n",
      "('SpecificSkills', 'Decoding')\n",
      "('SpecificSkills', 'Accuracy')\n",
      "('SpecificSkills', 'Sight words')\n",
      "('SpecificSkills', 'Self-monitor meaning')\n",
      "('SpecificSkills', 'Multisyll. Word attack Analysis')\n",
      "('SpecificSkills', 'Background Knowledge')\n",
      "('SpecificSkills', 'Self-monitor Form')\n",
      "('SpecificSkills', 'Word by word reading')\n",
      "('SpecificSkills', 'TracksContext/meaning')\n"
     ]
    }
   ],
   "source": [
    "for x in sorted([k for k in categ_to_lines], key=lambda ab: ab[0]): print(x)"
   ]
  },
  {
   "cell_type": "code",
   "execution_count": 84,
   "metadata": {},
   "outputs": [],
   "source": [
    "_categ_to_lines = categ_to_lines\n",
    "def merge(k_bs):\n",
    "    reviewed = set()\n",
    "    for k_b in k_bs:\n",
    "        _categ_to_lines[k_b[1]].extend(manually_filtered[k_b[0]])\n",
    "        print('adding:', len(manually_filtered[k_b[0]]))\n",
    "        reviewed.add(k_b[0])\n",
    "    print(manually_filtered.keys() - reviewed)\n",
    "    return _categ_to_lines"
   ]
  },
  {
   "cell_type": "code",
   "execution_count": 85,
   "metadata": {},
   "outputs": [
    {
     "name": "stdout",
     "output_type": "stream",
     "text": [
      "adding: 45\n",
      "adding: 70\n",
      "adding: 80\n",
      "adding: 12\n",
      "adding: 59\n",
      "adding: 34\n",
      "adding: 44\n",
      "adding: 38\n",
      "{'MAN_difficulty', 'MAN_sight', 'MAN_subst_omit', 'MAN_meaning', 'MAN_volume'}\n"
     ]
    }
   ],
   "source": [
    "final = merge([\n",
    "    ('MAN_accuracy', ('SpecificSkills', 'Accuracy')),\n",
    "    ('MAN_self_correct', ('SpecificSkills', 'Self-correction')),\n",
    "    ('MAN_fluency', ('ReadingPerformance', 'Fluency')),\n",
    "    ('MAN_pronunciation', ('LanguageSkills', 'Pronunciation')),\n",
    "    ('MAN_phrasing', ('ReadingPerformance', 'Expression/Phrasing')),\n",
    "    ('MAN_speed', ('ReadingPerformance', 'Rate/Pace')),\n",
    "    ('MAN_punctuation', ('ReadingPerformance', 'Punctuation')),\n",
    "    ('MAN_expression', ('ReadingPerformance', 'Expression/Phrasing')),\n",
    "])"
   ]
  },
  {
   "cell_type": "code",
   "execution_count": 86,
   "metadata": {},
   "outputs": [
    {
     "name": "stdout",
     "output_type": "stream",
     "text": [
      "MAN_difficulty\n",
      "MAN_accuracy\n",
      "MAN_fluency\n",
      "MAN_pronunciation\n",
      "MAN_phrasing\n",
      "MAN_meaning\n",
      "MAN_speed\n",
      "MAN_subst_omit\n",
      "MAN_punctuation\n",
      "MAN_self_correct\n",
      "MAN_expression\n",
      "MAN_volume\n",
      "MAN_sight\n"
     ]
    }
   ],
   "source": [
    "for k in manually_filtered: print(k)"
   ]
  },
  {
   "cell_type": "code",
   "execution_count": 95,
   "metadata": {},
   "outputs": [],
   "source": [
    "json.dump(\n",
    "    {\n",
    "        ':'.join(k): v \n",
    "        for k, v in final.items()\n",
    "    },\n",
    "    open('new_categories.json', 'w'),\n",
    "    indent=4\n",
    ")"
   ]
  },
  {
   "cell_type": "code",
   "execution_count": null,
   "metadata": {},
   "outputs": [],
   "source": [
    "more_categs = {\n",
    "    'MAN_difficulty',\n",
    "    'MAN_sight',\n",
    "    'MAN_subst_omit',\n",
    "    'MAN_meaning',\n",
    "    'MAN_volume'\n",
    "}\n"
   ]
  }
 ],
 "metadata": {
  "kernelspec": {
   "display_name": "Python 3",
   "language": "python",
   "name": "python3"
  },
  "language_info": {
   "codemirror_mode": {
    "name": "ipython",
    "version": 3
   },
   "file_extension": ".py",
   "mimetype": "text/x-python",
   "name": "python",
   "nbconvert_exporter": "python",
   "pygments_lexer": "ipython3",
   "version": "3.7.3"
  }
 },
 "nbformat": 4,
 "nbformat_minor": 2
}
