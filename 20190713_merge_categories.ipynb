{
 "cells": [
  {
   "cell_type": "code",
   "execution_count": 1,
   "metadata": {},
   "outputs": [],
   "source": [
    "import sys, os, pickle, json"
   ]
  },
  {
   "cell_type": "code",
   "execution_count": 41,
   "metadata": {},
   "outputs": [
    {
     "data": {
      "text/plain": [
       "['epr_main_fields.pkl',\n",
       " 'with_epr.pkl',\n",
       " 'manually_filtered.pkl',\n",
       " 'leftover_lines.pkl']"
      ]
     },
     "execution_count": 41,
     "metadata": {},
     "output_type": "execute_result"
    }
   ],
   "source": [
    "os.listdir('PklData/')"
   ]
  },
  {
   "cell_type": "code",
   "execution_count": 82,
   "metadata": {},
   "outputs": [],
   "source": [
    "categ_to_lines = pickle.load(open('PklData/with_epr.pkl', 'rb'))\n",
    "manually_filtered = pickle.load(open('PklData/manually_filtered.pkl', 'rb'))\n",
    "leftover_lines = pickle.load(open('PklData/leftover_lines.pkl', 'rb'))"
   ]
  },
  {
   "cell_type": "code",
   "execution_count": 83,
   "metadata": {},
   "outputs": [
    {
     "name": "stdout",
     "output_type": "stream",
     "text": [
      "('CLASSICDescriptors', 'Substitutions')\n",
      "('CLASSICDescriptors', 'False starts')\n",
      "('CLASSICDescriptors', 'Miscues')\n",
      "('CLASSICDescriptors', 'Omissions ')\n",
      "('CLASSICDescriptors', 'Stamina')\n",
      "('CLASSICDescriptors', 'Guesses at words')\n",
      "('CLASSICDescriptors', 'Insertions')\n",
      "('CLASSICDescriptors', 'Visual Cues')\n",
      "('LanguageSkills', 'Vocabulary')\n",
      "('LanguageSkills', 'Syntax')\n",
      "('LanguageSkills', 'Morphology (affixes, word analysis)')\n",
      "('LanguageSkills', 'Pronunciation')\n",
      "('ReadingPerformance', 'Punctuation')\n",
      "('ReadingPerformance', 'Rate/Pace')\n",
      "('ReadingPerformance', 'Intonation')\n",
      "('ReadingPerformance', 'Expression/Phrasing')\n",
      "('ReadingPerformance', 'Pausing')\n",
      "('ReadingPerformance', 'Fluency')\n",
      "('SpecificSkills', 'Self-correction')\n",
      "('SpecificSkills', 'Decoding')\n",
      "('SpecificSkills', 'Accuracy')\n",
      "('SpecificSkills', 'Sight words')\n",
      "('SpecificSkills', 'Self-monitor meaning')\n",
      "('SpecificSkills', 'Multisyll. Word attack Analysis')\n",
      "('SpecificSkills', 'Background Knowledge')\n",
      "('SpecificSkills', 'Self-monitor Form')\n",
      "('SpecificSkills', 'Word by word reading')\n",
      "('SpecificSkills', 'TracksContext/meaning')\n"
     ]
    }
   ],
   "source": [
    "for x in sorted([k for k in categ_to_lines], key=lambda ab: ab[0]): print(x)"
   ]
  },
  {
   "cell_type": "code",
   "execution_count": 84,
   "metadata": {},
   "outputs": [],
   "source": [
    "_categ_to_lines = categ_to_lines\n",
    "def merge(k_bs):\n",
    "    reviewed = set()\n",
    "    for k_b in k_bs:\n",
    "        _categ_to_lines[k_b[1]].extend(manually_filtered[k_b[0]])\n",
    "        print('adding:', len(manually_filtered[k_b[0]]))\n",
    "        reviewed.add(k_b[0])\n",
    "    print(manually_filtered.keys() - reviewed)\n",
    "    return _categ_to_lines"
   ]
  },
  {
   "cell_type": "code",
   "execution_count": 85,
   "metadata": {},
   "outputs": [
    {
     "name": "stdout",
     "output_type": "stream",
     "text": [
      "adding: 45\n",
      "adding: 70\n",
      "adding: 80\n",
      "adding: 12\n",
      "adding: 59\n",
      "adding: 34\n",
      "adding: 44\n",
      "adding: 38\n",
      "{'MAN_difficulty', 'MAN_sight', 'MAN_subst_omit', 'MAN_meaning', 'MAN_volume'}\n"
     ]
    }
   ],
   "source": [
    "final = merge([\n",
    "    ('MAN_accuracy', ('SpecificSkills', 'Accuracy')),\n",
    "    ('MAN_self_correct', ('SpecificSkills', 'Self-correction')),\n",
    "    ('MAN_fluency', ('ReadingPerformance', 'Fluency')),\n",
    "    ('MAN_pronunciation', ('LanguageSkills', 'Pronunciation')),\n",
    "    ('MAN_phrasing', ('ReadingPerformance', 'Expression/Phrasing')),\n",
    "    ('MAN_speed', ('ReadingPerformance', 'Rate/Pace')),\n",
    "    ('MAN_punctuation', ('ReadingPerformance', 'Punctuation')),\n",
    "    ('MAN_expression', ('ReadingPerformance', 'Expression/Phrasing')),\n",
    "])"
   ]
  },
  {
   "cell_type": "code",
   "execution_count": 86,
   "metadata": {},
   "outputs": [
    {
     "name": "stdout",
     "output_type": "stream",
     "text": [
      "MAN_difficulty\n",
      "MAN_accuracy\n",
      "MAN_fluency\n",
      "MAN_pronunciation\n",
      "MAN_phrasing\n",
      "MAN_meaning\n",
      "MAN_speed\n",
      "MAN_subst_omit\n",
      "MAN_punctuation\n",
      "MAN_self_correct\n",
      "MAN_expression\n",
      "MAN_volume\n",
      "MAN_sight\n"
     ]
    }
   ],
   "source": [
    "for k in manually_filtered: print(k)"
   ]
  },
  {
   "cell_type": "code",
   "execution_count": 95,
   "metadata": {},
   "outputs": [],
   "source": [
    "json.dump(\n",
    "    {\n",
    "        ':'.join(k): v \n",
    "        for k, v in final.items()\n",
    "    },\n",
    "    open('new_categories.json', 'w'),\n",
    "    indent=4\n",
    ")"
   ]
  },
  {
   "cell_type": "code",
   "execution_count": 97,
   "metadata": {},
   "outputs": [],
   "source": [
    "more_categs = {\n",
    "    'MAN_difficulty',\n",
    "    'MAN_sight',\n",
    "    'MAN_subst_omit',\n",
    "    'MAN_meaning',\n",
    "    'MAN_volume'\n",
    "}\n",
    "json.dump(\n",
    "    {c: manually_filtered[c] for c in more_categs},\n",
    "    open('more_categories.json', 'w'),\n",
    "    indent=4\n",
    ")"
   ]
  },
  {
   "cell_type": "code",
   "execution_count": 106,
   "metadata": {},
   "outputs": [
    {
     "data": {
      "text/plain": [
       "['good reader in general',\n",
       " \"student adding -s to word that isn't plural 'lead'\",\n",
       " 'able to take apart multisyllabic words on the fly',\n",
       " 'strong reader',\n",
       " 'leaves off -er ending on angler',\n",
       " 'difficulty with the prefix un- in unusual',\n",
       " 'able to take apart multisyllabic words in text',\n",
       " 'noticing names of people',\n",
       " 'reread part of a sentence',\n",
       " 'strong reader',\n",
       " 'has some high frequencysight words',\n",
       " 'noticing first letter then guessing',\n",
       " 'little background knowledge',\n",
       " 'student pausing for dialogue',\n",
       " \"student repeating words 'sharp'\",\n",
       " 'r-less',\n",
       " 'difficulty with past tense verbs (-ed endings)',\n",
       " 'skips over unknown words',\n",
       " 'student reading very softly',\n",
       " 'lacks confidence as a reader',\n",
       " 'poor signal',\n",
       " 'reads only known words',\n",
       " 'attends to the beginnings of words',\n",
       " 'some difficulty with multisyllabic words (ie inventation)',\n",
       " 'sometimes unstressed syllables in multisyllable words are slurred (saturday anxiously several)',\n",
       " 'misses ea sound',\n",
       " 'seems to be on right level',\n",
       " 'reads quietly',\n",
       " 'evidence of taking apart two-syllable words',\n",
       " 'successfully reads past tense verbs (-ed endings)',\n",
       " \"student removing ending of words '-ed'\",\n",
       " 'needs further instruction in explicit word attackmultisyllabic word skills',\n",
       " 'replaced certain sighthigh-frequency words with others (offof thea)',\n",
       " 'demonstrates an awareness of sentences',\n",
       " 'has many beginning and ending sounds',\n",
       " 'guesses at words',\n",
       " 'difficulty taking apart words',\n",
       " 'student struggles with vowel patterns and some r-controlled vowels',\n",
       " 'familiar with sigh words and many high frequency words',\n",
       " 'student changing pitch when reading questions',\n",
       " 'good control of r-controlled vowels',\n",
       " 'some evidence of control of initial consonant blends',\n",
       " '$obs',\n",
       " 'good intonationexpression',\n",
       " 'difficulty with the phoneme ph-',\n",
       " 'evidence of taking apart multisyllabic words (semaphores)',\n",
       " 'some words repeated',\n",
       " 'careful reader',\n",
       " 'reads what he thinks would make sense in the sentence but not what is on the page',\n",
       " 'evidence of taking apart multisyllabic words (hydroponic submerged)',\n",
       " 'reads a bit too rapidly at points which may (or may not) indicate that student is not comprehending',\n",
       " 'student inconsistently pausing for commas',\n",
       " 'student pausing when listing words',\n",
       " 'at times does not fully attend to visual information',\n",
       " 'reads through most commas without pausing',\n",
       " 'student reads beginnings but is not reading through entire words',\n",
       " 'provide instruction in medial vowel patterns r-controlled vowel',\n",
       " 'able to take apart compound words (something slackline)',\n",
       " 'occasionally runs over periods',\n",
       " 'guessing at words based on initial letters of words',\n",
       " 'student pausing in between sentences inconsistently',\n",
       " 'limited subject knowledge',\n",
       " 'consonant and vowel sounds were often incorrect',\n",
       " 'reading letter names instead of letter sounds',\n",
       " 'reading unintelligible',\n",
       " 'laborious',\n",
       " 'reads in syllables not blended into words',\n",
       " 'knows a few high frequency words (of the)',\n",
       " 'second language learner',\n",
       " '[how did student even get this text?]',\n",
       " 'student not pausing between sentences',\n",
       " 'does not read whole passage aloud',\n",
       " 'reads known words rapidly',\n",
       " 'some vowel confusion with shortlong vowel sounds',\n",
       " 'some emphasis on the wrong words within a sentence made the sentences sound disjointed',\n",
       " 'left off the -y in photography',\n",
       " 'occasional dysfluency apparent in some words  (might time find rarer volcanic)',\n",
       " 'misses ea sound',\n",
       " \"skips 'agates and jasper'\",\n",
       " \"skips 'activity' and instead says 'active'\",\n",
       " 'mumbles when encountering difficult words',\n",
       " 'difficulty with tracking',\n",
       " 'lost place in text',\n",
       " 'some evidence of taking apart words (polished activity)',\n",
       " 'trouble with long vowel sounds (cement plywood recreation)',\n",
       " 'drops endings (frame instead of framing)',\n",
       " 'good strategies for taking apart multisyllabic words',\n",
       " 'stops to decodecorrect complex content words',\n",
       " 'student pausing when listing words',\n",
       " 'student repeating certain words at the end of a sentence',\n",
       " 'evidence of taking apart multisyllabic words (hydroponic)',\n",
       " 'student placing emphasis on signal words',\n",
       " \"doesn't always attend to word endings\",\n",
       " 'good knowledge of vocabulary',\n",
       " 'reads quietly',\n",
       " 'good self-monitoring',\n",
       " 'evidence of past tense verb knowledge',\n",
       " 'difficulty taking apart multisyllabic words (specific accomplish photography)',\n",
       " 'hoarse voice quality',\n",
       " 'student repeating words as they read',\n",
       " 'not flexible with taking words apart',\n",
       " 'attends to initial sound',\n",
       " 'student reading carefully',\n",
       " 'does not attend to word endings',\n",
       " 'seems good at blending after sounding out words',\n",
       " 'student repeating words when first forgetting to include ending',\n",
       " 'reads quite rapidly',\n",
       " 'demonstrates ability to take apart words on the fly',\n",
       " 'difficulty articulating r sound',\n",
       " 'student rereading portions of the text for clarification',\n",
       " 'evidence of searching behaviors',\n",
       " 'good self-monitoring skills',\n",
       " 'some disfluency with stopping at periods',\n",
       " 'starts strong and then fades at end',\n",
       " 'missed two larger vocabulary words (quarreling separately)',\n",
       " 'difficulty with some endingssuffixes of words',\n",
       " 'student not pausing long enough in between sentences',\n",
       " 'lacks familiarity with irregular past tense verbs (caught)',\n",
       " 'strong reader',\n",
       " 'elides unstressed syllable (can provide fish)',\n",
       " 'evidence of taking apart two-syllable and compound words',\n",
       " 'able to read past a word and then come back to it to solve it with context',\n",
       " 'struggles with some vowel patterns (ex: through sparkling)',\n",
       " 'demonstrates an awareness of sentences',\n",
       " 'has many beginning and ending sounds',\n",
       " 'attending to beginning sounds but not the entire word when encountering a tricky word',\n",
       " 'past tense errors',\n",
       " 'seems to potentially be using a picture to determine some words but unclear',\n",
       " 'difficulty with initial sounds',\n",
       " 'difficulty with long vowel sounds and vowel teams',\n",
       " 'does not always attend to word endings',\n",
       " 'limited data as student did not read much out loud stopping when encountering tricky words and scanning ahead in the text for something familiar',\n",
       " 'confuses short vowels',\n",
       " 'subvocalizes during word solving',\n",
       " 'skips words and reads only known words',\n",
       " 'demonstrates an awareness of sentences',\n",
       " 'not attending to some endings and medial vowels',\n",
       " 'difficulty with long vowel sounds',\n",
       " 'observes some periods',\n",
       " 'confusion with pronouns',\n",
       " 'some evidence of taking apart words',\n",
       " 'good reader',\n",
       " 'not attending to endings of words',\n",
       " 'limited data--started late and stopped in the middle of the passage',\n",
       " 'less than half text read',\n",
       " 'does not demonstrate flexibility with taking apart words',\n",
       " 'has difficulty reading possessives',\n",
       " 'student \"fakes\" several sentences and skips to end',\n",
       " 'finds and reads a few familiar words without successfully articulating any sentences',\n",
       " 'guesses at words',\n",
       " 'attempts few words',\n",
       " 'reading is unintelligible',\n",
       " 'note: there is a period missing in the passage after \"on a card\"',\n",
       " 'does not always cross-check multiple sources of information']"
      ]
     },
     "execution_count": 106,
     "metadata": {},
     "output_type": "execute_result"
    }
   ],
   "source": [
    "leftover_lines"
   ]
  },
  {
   "cell_type": "code",
   "execution_count": 105,
   "metadata": {},
   "outputs": [
    {
     "data": {
      "text/plain": [
       "633"
      ]
     },
     "execution_count": 105,
     "metadata": {},
     "output_type": "execute_result"
    }
   ],
   "source": []
  },
  {
   "cell_type": "code",
   "execution_count": null,
   "metadata": {},
   "outputs": [],
   "source": []
  }
 ],
 "metadata": {
  "kernelspec": {
   "display_name": "Python 3",
   "language": "python",
   "name": "python3"
  },
  "language_info": {
   "codemirror_mode": {
    "name": "ipython",
    "version": 3
   },
   "file_extension": ".py",
   "mimetype": "text/x-python",
   "name": "python",
   "nbconvert_exporter": "python",
   "pygments_lexer": "ipython3",
   "version": "3.7.3"
  }
 },
 "nbformat": 4,
 "nbformat_minor": 2
}
