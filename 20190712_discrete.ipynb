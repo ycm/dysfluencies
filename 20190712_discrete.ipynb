{
 "cells": [
  {
   "cell_type": "markdown",
   "metadata": {},
   "source": [
    "# <center>Discretizing reading categories</center>\n",
    "\n",
    "<center>last changed July 12, 2019</center>"
   ]
  },
  {
   "cell_type": "code",
   "execution_count": 57,
   "metadata": {},
   "outputs": [],
   "source": [
    "import numpy as np\n",
    "import pandas as pd\n",
    "import matplotlib.pyplot as plt\n",
    "from nltk.stem.porter import *"
   ]
  },
  {
   "cell_type": "code",
   "execution_count": 49,
   "metadata": {},
   "outputs": [],
   "source": [
    "pd.read_csv(\n",
    "    'MoreFiles/categories_edited.csv', \n",
    "    header=None\n",
    ").to_csv(\n",
    "    'MoreFiles/categories.csv', \n",
    "    sep='|', \n",
    "    index=False\n",
    ")"
   ]
  },
  {
   "cell_type": "code",
   "execution_count": 50,
   "metadata": {},
   "outputs": [],
   "source": [
    "f = [\n",
    "    list(r[1]) \n",
    "    for r in pd.read_csv(\n",
    "        'MoreFiles/categories.csv', \n",
    "        sep='|'\n",
    "    ).iterrows()\n",
    "]\n",
    "f = [ln for ln in f if ln.count(np.nan) != len(ln)]"
   ]
  },
  {
   "cell_type": "code",
   "execution_count": 55,
   "metadata": {},
   "outputs": [],
   "source": [
    "delimiter_idx = [\n",
    "    tuple([idx, l[0]]) \n",
    "    for idx, l in enumerate(f) \n",
    "    if pd.isnull(l[1])\n",
    "]"
   ]
  },
  {
   "cell_type": "code",
   "execution_count": 85,
   "metadata": {},
   "outputs": [],
   "source": [
    "start = 0\n",
    "grp_name_to_lns = {}\n",
    "for n, tpl in enumerate(delimiter_idx[:-1]):\n",
    "    grp_name = tpl[1]\n",
    "    nxt = delimiter_idx[n+1][0]\n",
    "    grp_name_to_lns[grp_name] = tuple([start, nxt])\n",
    "    start = nxt\n",
    "grp_name_to_lns[delimiter_idx[-1][1]] = tuple([start, len(f) - 1])"
   ]
  },
  {
   "cell_type": "code",
   "execution_count": 97,
   "metadata": {},
   "outputs": [],
   "source": [
    "grp_name_to_subgrps_to_lns = {}\n",
    "for grp_name, lns in grp_name_to_lns.items():\n",
    "#     print('\\n', grp_name)\n",
    "    subgrp_name_to_notes = {}\n",
    "    for x in f[lns[0] + 1:lns[1]]:\n",
    "        subgrp_name = x[0]\n",
    "        for note in x[1:]:\n",
    "            if not pd.isnull(note):\n",
    "                reg = note.strip().lower().replace(';', '')\n",
    "                try:\n",
    "                    subgrp_name_to_notes[subgrp_name].append(reg)\n",
    "                except KeyError:\n",
    "                    subgrp_name_to_notes[subgrp_name] = [reg]\n",
    "    grp_name_to_subgrps_to_lns[grp_name] = subgrp_name_to_notes"
   ]
  },
  {
   "cell_type": "code",
   "execution_count": 110,
   "metadata": {},
   "outputs": [],
   "source": [
    "obs_full = list(pd.read_csv(\n",
    "    'DataFromFirstEmail/20190118_reading_specialists.csv'\n",
    ").OBS)\n",
    "obs_short = [\n",
    "    [y.strip() for y in x.lower().replace('$obs:', '').strip().split(';')] \n",
    "    for x in obs_full\n",
    "]\n",
    "corpus = [\n",
    "    x.replace('.', '').replace(',', '').replace('/', '') \n",
    "    for y in obs_short \n",
    "    for x in y \n",
    "    if x\n",
    "]"
   ]
  },
  {
   "cell_type": "code",
   "execution_count": 114,
   "metadata": {},
   "outputs": [],
   "source": [
    "better_epr_iter = [\n",
    "    tuple([grp_name, subgrp, ln])\n",
    "    for grp_name, subgrps_to_lns in grp_name_to_subgrps_to_lns.items()\n",
    "    for subgrp, lns in subgrps_to_lns.items()\n",
    "    for ln in lns\n",
    "]"
   ]
  },
  {
   "cell_type": "code",
   "execution_count": null,
   "metadata": {},
   "outputs": [],
   "source": []
  },
  {
   "cell_type": "code",
   "execution_count": null,
   "metadata": {},
   "outputs": [],
   "source": []
  },
  {
   "cell_type": "code",
   "execution_count": null,
   "metadata": {},
   "outputs": [],
   "source": []
  },
  {
   "cell_type": "code",
   "execution_count": null,
   "metadata": {},
   "outputs": [],
   "source": []
  },
  {
   "cell_type": "code",
   "execution_count": null,
   "metadata": {},
   "outputs": [],
   "source": []
  },
  {
   "cell_type": "code",
   "execution_count": null,
   "metadata": {},
   "outputs": [],
   "source": []
  }
 ],
 "metadata": {
  "kernelspec": {
   "display_name": "Python 3",
   "language": "python",
   "name": "python3"
  },
  "language_info": {
   "codemirror_mode": {
    "name": "ipython",
    "version": 3
   },
   "file_extension": ".py",
   "mimetype": "text/x-python",
   "name": "python",
   "nbconvert_exporter": "python",
   "pygments_lexer": "ipython3",
   "version": "3.7.3"
  }
 },
 "nbformat": 4,
 "nbformat_minor": 2
}
