{
 "cells": [
  {
   "cell_type": "code",
   "execution_count": 1,
   "metadata": {},
   "outputs": [],
   "source": [
    "import sys, os, json, pickle"
   ]
  },
  {
   "cell_type": "code",
   "execution_count": 2,
   "metadata": {},
   "outputs": [],
   "source": [
    "SUG_PATH = '../MoreFiles/sugs.json'\n",
    "s = json.load(open(SUG_PATH))[1:]"
   ]
  },
  {
   "cell_type": "code",
   "execution_count": 3,
   "metadata": {},
   "outputs": [],
   "source": [
    "sugs = [x.lower().replace('$sug:', '').strip() for x in s]"
   ]
  },
  {
   "cell_type": "code",
   "execution_count": 4,
   "metadata": {},
   "outputs": [],
   "source": [
    "fixed = []\n",
    "for sug in sugs:\n",
    "    if sug:\n",
    "        try:\n",
    "            if sug[0] == '\"' and sug[-1] == '\"':\n",
    "                fixed.append(sug[1:-1].strip())\n",
    "            else:\n",
    "                fixed.append(sug.strip())\n",
    "        except Exception as e:\n",
    "            print(e)"
   ]
  },
  {
   "cell_type": "code",
   "execution_count": 5,
   "metadata": {},
   "outputs": [],
   "source": [
    "tokenized = [\n",
    "    ln.split(';')\n",
    "    for ln in fixed\n",
    "]"
   ]
  },
  {
   "cell_type": "code",
   "execution_count": 6,
   "metadata": {},
   "outputs": [],
   "source": [
    "flattened = [\n",
    "    ln.strip()\n",
    "    for lnlst in tokenized\n",
    "    for ln in lnlst\n",
    "    if ln.strip() and ln.strip() != '$sug'\n",
    "]"
   ]
  },
  {
   "cell_type": "code",
   "execution_count": 7,
   "metadata": {
    "scrolled": true
   },
   "outputs": [],
   "source": [
    "flattened_unique = list(set(flattened))"
   ]
  },
  {
   "cell_type": "code",
   "execution_count": 8,
   "metadata": {},
   "outputs": [
    {
     "name": "stdout",
     "output_type": "stream",
     "text": [
      "871\n",
      "662\n"
     ]
    }
   ],
   "source": [
    "print(len(flattened))\n",
    "print(len(flattened_unique))"
   ]
  },
  {
   "cell_type": "code",
   "execution_count": 9,
   "metadata": {},
   "outputs": [],
   "source": [
    "# with open('../WorkingJsons/all_sugs.json', 'w') as f:\n",
    "#     json.dump(sorted(flattened), f, indent=4)\n",
    "# with open('../WorkingJsons/unique_sugs.json', 'w') as f:\n",
    "#     json.dump(sorted(flattened_unique), f, indent=4)"
   ]
  }
 ],
 "metadata": {
  "kernelspec": {
   "display_name": "Python 3",
   "language": "python",
   "name": "python3"
  },
  "language_info": {
   "codemirror_mode": {
    "name": "ipython",
    "version": 3
   },
   "file_extension": ".py",
   "mimetype": "text/x-python",
   "name": "python",
   "nbconvert_exporter": "python",
   "pygments_lexer": "ipython3",
   "version": "3.7.3"
  }
 },
 "nbformat": 4,
 "nbformat_minor": 2
}
