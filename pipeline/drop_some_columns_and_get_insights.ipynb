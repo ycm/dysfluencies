{
 "cells": [
  {
   "cell_type": "markdown",
   "metadata": {},
   "source": [
    "August 3, 2019: Testing"
   ]
  },
  {
   "cell_type": "code",
   "execution_count": 1,
   "metadata": {},
   "outputs": [],
   "source": [
    "import pandas as pd"
   ]
  },
  {
   "cell_type": "code",
   "execution_count": 2,
   "metadata": {},
   "outputs": [],
   "source": [
    "observations = pd.read_csv(\n",
    "    '.obs.tsv.tmp',\n",
    "    sep='\\t'\n",
    ")"
   ]
  },
  {
   "cell_type": "code",
   "execution_count": 3,
   "metadata": {},
   "outputs": [
    {
     "name": "stdout",
     "output_type": "stream",
     "text": [
      "(70, 19)\n"
     ]
    },
    {
     "data": {
      "text/html": [
       "<div>\n",
       "<style scoped>\n",
       "    .dataframe tbody tr th:only-of-type {\n",
       "        vertical-align: middle;\n",
       "    }\n",
       "\n",
       "    .dataframe tbody tr th {\n",
       "        vertical-align: top;\n",
       "    }\n",
       "\n",
       "    .dataframe thead th {\n",
       "        text-align: right;\n",
       "    }\n",
       "</style>\n",
       "<table border=\"1\" class=\"dataframe\">\n",
       "  <thead>\n",
       "    <tr style=\"text-align: right;\">\n",
       "      <th></th>\n",
       "      <th>ACCURACY</th>\n",
       "      <th>EXPRESSION</th>\n",
       "      <th>FLUENCY</th>\n",
       "      <th>MONITORING_FOR_MEANING</th>\n",
       "      <th>MORPHOLOGY</th>\n",
       "      <th>MULTISYLLABIC_WORDS</th>\n",
       "      <th>OMISSION_INSERTION</th>\n",
       "      <th>PHONICS</th>\n",
       "      <th>PHRASING</th>\n",
       "      <th>PRONUNCIATION</th>\n",
       "      <th>PUNCTUATION</th>\n",
       "      <th>RATE</th>\n",
       "      <th>SELF_CORRECTION</th>\n",
       "      <th>SIGHT_WORDS</th>\n",
       "      <th>SUBSTITUTION_REVERSAL</th>\n",
       "      <th>VOCABULARY</th>\n",
       "      <th>WORD_ATTACK</th>\n",
       "      <th>WORD_BY_WORD</th>\n",
       "      <th>WORD_ENDINGS</th>\n",
       "    </tr>\n",
       "  </thead>\n",
       "  <tbody>\n",
       "    <tr>\n",
       "      <th>0</th>\n",
       "      <td>1</td>\n",
       "      <td>0</td>\n",
       "      <td>0</td>\n",
       "      <td>-1</td>\n",
       "      <td>0</td>\n",
       "      <td>0</td>\n",
       "      <td>0</td>\n",
       "      <td>0</td>\n",
       "      <td>0</td>\n",
       "      <td>0</td>\n",
       "      <td>-1</td>\n",
       "      <td>1</td>\n",
       "      <td>1</td>\n",
       "      <td>0</td>\n",
       "      <td>0</td>\n",
       "      <td>1</td>\n",
       "      <td>0</td>\n",
       "      <td>0</td>\n",
       "      <td>0</td>\n",
       "    </tr>\n",
       "    <tr>\n",
       "      <th>1</th>\n",
       "      <td>1</td>\n",
       "      <td>-1</td>\n",
       "      <td>1</td>\n",
       "      <td>0</td>\n",
       "      <td>0</td>\n",
       "      <td>0</td>\n",
       "      <td>0</td>\n",
       "      <td>1</td>\n",
       "      <td>1</td>\n",
       "      <td>0</td>\n",
       "      <td>1</td>\n",
       "      <td>2</td>\n",
       "      <td>0</td>\n",
       "      <td>0</td>\n",
       "      <td>0</td>\n",
       "      <td>1</td>\n",
       "      <td>0</td>\n",
       "      <td>0</td>\n",
       "      <td>0</td>\n",
       "    </tr>\n",
       "    <tr>\n",
       "      <th>2</th>\n",
       "      <td>1</td>\n",
       "      <td>1</td>\n",
       "      <td>-1</td>\n",
       "      <td>0</td>\n",
       "      <td>0</td>\n",
       "      <td>-1</td>\n",
       "      <td>0</td>\n",
       "      <td>0</td>\n",
       "      <td>1</td>\n",
       "      <td>0</td>\n",
       "      <td>0</td>\n",
       "      <td>1</td>\n",
       "      <td>0</td>\n",
       "      <td>1</td>\n",
       "      <td>0</td>\n",
       "      <td>0</td>\n",
       "      <td>0</td>\n",
       "      <td>0</td>\n",
       "      <td>0</td>\n",
       "    </tr>\n",
       "    <tr>\n",
       "      <th>3</th>\n",
       "      <td>0</td>\n",
       "      <td>0</td>\n",
       "      <td>0</td>\n",
       "      <td>1</td>\n",
       "      <td>0</td>\n",
       "      <td>0</td>\n",
       "      <td>0</td>\n",
       "      <td>0</td>\n",
       "      <td>-1</td>\n",
       "      <td>0</td>\n",
       "      <td>0</td>\n",
       "      <td>0</td>\n",
       "      <td>2</td>\n",
       "      <td>0</td>\n",
       "      <td>-1</td>\n",
       "      <td>0</td>\n",
       "      <td>0</td>\n",
       "      <td>0</td>\n",
       "      <td>0</td>\n",
       "    </tr>\n",
       "    <tr>\n",
       "      <th>4</th>\n",
       "      <td>0</td>\n",
       "      <td>-1</td>\n",
       "      <td>1</td>\n",
       "      <td>0</td>\n",
       "      <td>0</td>\n",
       "      <td>1</td>\n",
       "      <td>0</td>\n",
       "      <td>1</td>\n",
       "      <td>-2</td>\n",
       "      <td>0</td>\n",
       "      <td>0</td>\n",
       "      <td>-1</td>\n",
       "      <td>1</td>\n",
       "      <td>0</td>\n",
       "      <td>-1</td>\n",
       "      <td>0</td>\n",
       "      <td>0</td>\n",
       "      <td>0</td>\n",
       "      <td>0</td>\n",
       "    </tr>\n",
       "  </tbody>\n",
       "</table>\n",
       "</div>"
      ],
      "text/plain": [
       "   ACCURACY  EXPRESSION  FLUENCY  MONITORING_FOR_MEANING  MORPHOLOGY  \\\n",
       "0         1           0        0                      -1           0   \n",
       "1         1          -1        1                       0           0   \n",
       "2         1           1       -1                       0           0   \n",
       "3         0           0        0                       1           0   \n",
       "4         0          -1        1                       0           0   \n",
       "\n",
       "   MULTISYLLABIC_WORDS  OMISSION_INSERTION  PHONICS  PHRASING  PRONUNCIATION  \\\n",
       "0                    0                   0        0         0              0   \n",
       "1                    0                   0        1         1              0   \n",
       "2                   -1                   0        0         1              0   \n",
       "3                    0                   0        0        -1              0   \n",
       "4                    1                   0        1        -2              0   \n",
       "\n",
       "   PUNCTUATION  RATE  SELF_CORRECTION  SIGHT_WORDS  SUBSTITUTION_REVERSAL  \\\n",
       "0           -1     1                1            0                      0   \n",
       "1            1     2                0            0                      0   \n",
       "2            0     1                0            1                      0   \n",
       "3            0     0                2            0                     -1   \n",
       "4            0    -1                1            0                     -1   \n",
       "\n",
       "   VOCABULARY  WORD_ATTACK  WORD_BY_WORD  WORD_ENDINGS  \n",
       "0           1            0             0             0  \n",
       "1           1            0             0             0  \n",
       "2           0            0             0             0  \n",
       "3           0            0             0             0  \n",
       "4           0            0             0             0  "
      ]
     },
     "execution_count": 3,
     "metadata": {},
     "output_type": "execute_result"
    }
   ],
   "source": [
    "print(observations.shape)\n",
    "observations.head()"
   ]
  },
  {
   "cell_type": "code",
   "execution_count": 4,
   "metadata": {},
   "outputs": [],
   "source": [
    "from collections import Counter"
   ]
  },
  {
   "cell_type": "code",
   "execution_count": 5,
   "metadata": {},
   "outputs": [],
   "source": [
    "obsct = Counter({x[0]: x[1] for x in observations.astype(bool).sum(axis=0).iteritems()})"
   ]
  },
  {
   "cell_type": "code",
   "execution_count": 6,
   "metadata": {},
   "outputs": [
    {
     "name": "stdout",
     "output_type": "stream",
     "text": [
      "Least mentioned observation categories:\n",
      "Count: 4\tMORPHOLOGY\n",
      "Count: 5\tPRONUNCIATION\n",
      "Count: 15\tVOCABULARY\n",
      "Count: 19\tWORD_ATTACK\n",
      "Count: 21\tMULTISYLLABIC_WORDS\n",
      "Count: 22\tWORD_ENDINGS\n",
      "Count: 22\tWORD_BY_WORD\n",
      "Count: 23\tSUBSTITUTION_REVERSAL\n",
      "Count: 23\tOMISSION_INSERTION\n",
      "Count: 25\tSIGHT_WORDS\n",
      "Count: 29\tFLUENCY\n",
      "Count: 33\tPUNCTUATION\n",
      "Count: 34\tPHONICS\n",
      "Count: 36\tRATE\n",
      "Count: 39\tACCURACY\n",
      "Count: 44\tSELF_CORRECTION\n",
      "Count: 44\tEXPRESSION\n",
      "Count: 46\tMONITORING_FOR_MEANING\n",
      "Count: 53\tPHRASING\n"
     ]
    }
   ],
   "source": [
    "print('Least mentioned observation categories:')\n",
    "for cat, cnt in obsct.most_common()[::-1]:\n",
    "    print('Count: {}\\t{}'.format(cnt, cat))"
   ]
  },
  {
   "cell_type": "code",
   "execution_count": 7,
   "metadata": {},
   "outputs": [],
   "source": [
    "suggestions = pd.read_csv(\n",
    "    '.sug.tsv.tmp',\n",
    "    sep='\\t'\n",
    ")"
   ]
  },
  {
   "cell_type": "code",
   "execution_count": 8,
   "metadata": {},
   "outputs": [
    {
     "name": "stdout",
     "output_type": "stream",
     "text": [
      "Least mentioned suggestion categories:\n",
      "Count: 1\tSUBSTITUTIONS_REVERSALS\n",
      "Count: 2\tPRONUNCIATION\n",
      "Count: 3\tVOICE\n",
      "Count: 3\tOMISSIONS_INSERTIONS\n",
      "Count: 3\tMORPHOLOGY\n",
      "Count: 3\tARTICULATION\n",
      "Count: 6\tSIGHT_WORDS\n",
      "Count: 6\tSELF_MONITORING\n",
      "Count: 13\tVOCABULARY\n",
      "Count: 19\tSELF_CORRECTION\n",
      "Count: 22\tWORD_ATTACK\n",
      "Count: 22\tRATE\n",
      "Count: 29\tWORD_ENDINGS\n",
      "Count: 29\tPHONICS\n",
      "Count: 33\tPUNCTUATION\n",
      "Count: 36\tSIGHT_WORD\n",
      "Count: 37\tMULTISYLLABIC_WORDS\n",
      "Count: 42\tSELF_MONITOR\n",
      "Count: 42\tPHRASING\n",
      "Count: 43\tEXPRESSION\n",
      "Count: 45\tMEANING_COMPRENHENSION\n",
      "Count: 55\tFLUENCY\n",
      "Count: 64\tDIFFICULTY\n"
     ]
    }
   ],
   "source": [
    "sugct = Counter({x[0]: x[1] for x in suggestions.astype(bool).sum(axis=0).iteritems()})\n",
    "print('Least mentioned suggestion categories:')\n",
    "for cat, cnt in sugct.most_common()[::-1]:\n",
    "    print('Count: {}\\t{}'.format(cnt, cat))"
   ]
  }
 ],
 "metadata": {
  "kernelspec": {
   "display_name": "Python 3",
   "language": "python",
   "name": "python3"
  },
  "language_info": {
   "codemirror_mode": {
    "name": "ipython",
    "version": 3
   },
   "file_extension": ".py",
   "mimetype": "text/x-python",
   "name": "python",
   "nbconvert_exporter": "python",
   "pygments_lexer": "ipython3",
   "version": "3.7.3"
  }
 },
 "nbformat": 4,
 "nbformat_minor": 2
}
