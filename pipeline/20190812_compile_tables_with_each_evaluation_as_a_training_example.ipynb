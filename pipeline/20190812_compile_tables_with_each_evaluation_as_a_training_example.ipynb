{
 "cells": [
  {
   "cell_type": "markdown",
   "metadata": {},
   "source": [
    "# Notebook: Count each observation/suggestion as separate training examples"
   ]
  },
  {
   "cell_type": "code",
   "execution_count": 11,
   "metadata": {},
   "outputs": [],
   "source": [
    "import json\n",
    "import pandas as pd\n",
    "from collections import Counter, defaultdict"
   ]
  },
  {
   "cell_type": "code",
   "execution_count": 2,
   "metadata": {},
   "outputs": [],
   "source": [
    "with open('res/reading_examples.json') as f:\n",
    "    reading_examples = json.load(f)"
   ]
  },
  {
   "cell_type": "code",
   "execution_count": 16,
   "metadata": {},
   "outputs": [],
   "source": [
    "with open('.obs.tsv.tmp') as f:\n",
    "    for line in f:\n",
    "        obs_categories = sorted(line.strip().split('\\t'))\n",
    "        break\n",
    "with open('.sug.tsv.tmp') as f:\n",
    "    for line in f:\n",
    "        sug_categories = sorted(line.strip().split('\\t'))\n",
    "        break"
   ]
  },
  {
   "cell_type": "code",
   "execution_count": null,
   "metadata": {},
   "outputs": [],
   "source": []
  },
  {
   "cell_type": "code",
   "execution_count": 33,
   "metadata": {},
   "outputs": [],
   "source": [
    "obs_table = ['\\t'.join(obs_categories)]\n",
    "sug_table = ['\\t'.join(sug_categories)]\n",
    "for ex in reading_examples:\n",
    "    for ev in ex['Evaluations']:\n",
    "        obs_cat_to_val = defaultdict(int)\n",
    "        sug_cat_to_val = defaultdict(int)\n",
    "        for obs, comments in ev['Observations'].items():\n",
    "            if comments[0] == 'NEUTRAL':\n",
    "                continue\n",
    "            polarity_score = 1 if comments[0] == 'POSITIVE' else -1\n",
    "            for c in comments[1:]:\n",
    "                obs_cat_to_val[c] += polarity_score\n",
    "        obs_cat_to_val_for_this_example = [\n",
    "            str(obs_cat_to_val[o])\n",
    "            for o in obs_categories\n",
    "        ]\n",
    "        assert len(obs_cat_to_val_for_this_example) == len(obs_categories)\n",
    "        obs_table.append('\\t'.join(obs_cat_to_val_for_this_example))\n",
    "        for sug, comments in ev['Suggestions'].items():\n",
    "            for c in comments:\n",
    "                sug_cat_to_val[c] += 1\n",
    "        sug_cat_to_val_for_this_example = [\n",
    "            str(sug_cat_to_val[s])\n",
    "            for s in sug_categories\n",
    "        ]\n",
    "        assert len(sug_cat_to_val_for_this_example) == len(sug_categories)\n",
    "        sug_table.append('\\t'.join(sug_cat_to_val_for_this_example))"
   ]
  },
  {
   "cell_type": "code",
   "execution_count": 37,
   "metadata": {},
   "outputs": [],
   "source": [
    "with open('.obs.tsv.tmp.by_evaluation', 'w') as f:\n",
    "    for l in obs_table:\n",
    "        print(l, file=f)"
   ]
  },
  {
   "cell_type": "code",
   "execution_count": 38,
   "metadata": {},
   "outputs": [],
   "source": [
    "with open('.sug.tsv.tmp.by_evaluation', 'w') as f:\n",
    "    for l in sug_table:\n",
    "        print(l, file=f)"
   ]
  },
  {
   "cell_type": "code",
   "execution_count": null,
   "metadata": {},
   "outputs": [],
   "source": []
  }
 ],
 "metadata": {
  "kernelspec": {
   "display_name": "Python 3",
   "language": "python",
   "name": "python3"
  },
  "language_info": {
   "codemirror_mode": {
    "name": "ipython",
    "version": 3
   },
   "file_extension": ".py",
   "mimetype": "text/x-python",
   "name": "python",
   "nbconvert_exporter": "python",
   "pygments_lexer": "ipython3",
   "version": "3.7.3"
  }
 },
 "nbformat": 4,
 "nbformat_minor": 2
}
