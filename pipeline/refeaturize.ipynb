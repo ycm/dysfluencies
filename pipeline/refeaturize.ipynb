{
 "cells": [
  {
   "cell_type": "markdown",
   "metadata": {},
   "source": [
    "# Re-featurize"
   ]
  },
  {
   "cell_type": "code",
   "execution_count": 1,
   "metadata": {},
   "outputs": [],
   "source": [
    "import sys\n",
    "import json\n",
    "sys.path.append('util')\n",
    "import util\n",
    "import pandas as pd"
   ]
  },
  {
   "cell_type": "code",
   "execution_count": 2,
   "metadata": {},
   "outputs": [],
   "source": [
    "obs_categories, sug_categories = util.load_categories()"
   ]
  },
  {
   "cell_type": "code",
   "execution_count": 3,
   "metadata": {},
   "outputs": [],
   "source": [
    "with open('res/reading_examples_with_token_features_normalized.json') as f:\n",
    "    reading_examples = json.load(f)"
   ]
  },
  {
   "cell_type": "code",
   "execution_count": 6,
   "metadata": {},
   "outputs": [],
   "source": [
    "diff_types = [\n",
    "    'StrippedPosDiff',\n",
    "    'StrippedNegDiff',\n",
    "    'StrippedMinorDiff',\n",
    "    'NoPausePosDiff',\n",
    "    'NoPauseNegDiff',\n",
    "    'NoPauseMinorDiff'\n",
    "]\n",
    "def fetch_diff_scores(ex):\n",
    "    return [ex[t] for t in diff_types]"
   ]
  },
  {
   "cell_type": "code",
   "execution_count": 5,
   "metadata": {},
   "outputs": [
    {
     "name": "stdout",
     "output_type": "stream",
     "text": [
      "{'ReaderID': '5157', 'PassageID': '3401', 'PassageType': '3026', 'Evaluations': [{'Evaluator': 'carolyn greenberg', 'Observations': {'student usually reads accurately with adequate speed and expression': ['POSITIVE', 'ACCURACY', 'EXPRESSION'], 'attends to phrasing and punctuation': ['POSITIVE', 'PHRASING'], 'self-corrects most errors that impact meaning': ['POSITIVE', 'SELF_CORRECTION']}, 'Suggestions': {'check comprehension in similarly leveled text by asking student to summarize passages': ['MEANING_COMPRENHENSION'], 'provide instruction in fluency, emphasizing the importance of reading with expression and appropriate speed': ['FLUENCY'], 'emphasize the importance of striving for comprehension at all times, in addition to fluency': ['MEANING_COMPRENHENSION'], 'provide student with engaging texts in a wide variety of genres for independent reading': ['FLUENCY']}}, {'Evaluator': 'sharilyn fetterhoff-bacci', 'Observations': {'reads carefully and with attention to punctuation': ['NEGATIVE', 'PUNCTUATION'], 'adequate pacing that reflects attention to meaning': ['POSITIVE', 'RATE'], 'good vocabulary knowledge': ['POSITIVE', 'VOCABULARY'], 'monotone': ['NEGATIVE', 'EXPRESSION']}, 'Suggestions': {'work on reading with expression': ['EXPRESSION'], 'teach proper syllable stress in multisyllabic words': ['MULTISYLLABIC_WORDS']}}, {'Evaluator': 'susan barber', 'Observations': {'good generally accurate reader': ['POSITIVE', 'ACCURACY'], 'reads in meaningful phrases with good expression but loses stamina toward end of passage': ['NEGATIVE', 'PHRASING'], 'few uncorrected miscues (reversal (he maybe) content)': ['NEGATIVE', 'ACCURACY'], 'seems to self-monitor for pronunciation and meaning': ['NEGATIVE', 'MONITORING_FOR_MEANING']}, 'Suggestions': {'increase oral reading stamina by reading easier, familiar texts': ['DIFFICULTY'], 'continue to develop more challenging reading vocabulary.': ['DIFFICULTY']}}], 'Transcript': \"when it comes to careers the options are endless how can jason choose he enjoys writing so he might consider working as a journalist journalists lead adventures live reporting on significant events while traveling in the world could anything be more exciting than that or maybe jason might enjoy a career as an astronaut exploring space and conduct conducting scientific research seems exhilarating when he was younger jason spent countless hours building with blocks so he maybe enjoy becoming an architect it's fun to have so many options jason thought to himself for now jason is content being a student he can keep\", 'Words': [['<eps>', 0, 92], ['<c1>', 92, 3], ['when', 95, 22], ['it', 117, 14], ['comes', 131, 38], ['to', 169, 20], ['careers', 189, 72], ['<eps>', 261, 4], ['the', 265, 10], ['options', 275, 66], ['are', 341, 17], ['endless', 358, 59], ['<eps>', 417, 113], ['how', 530, 30], ['can', 560, 23], ['jason', 583, 56], ['choose', 639, 62], ['<eps>', 701, 56], ['he', 757, 20], ['enjoys', 777, 53], ['writing', 830, 69], ['<eps>', 899, 30], ['so', 929, 29], ['he', 958, 19], ['might', 977, 35], ['consider', 1012, 62], ['working', 1074, 52], ['as', 1126, 16], ['a', 1142, 5], ['journalist', 1147, 90], ['<eps>', 1237, 99], ['journalists', 1336, 64], ['lead', 1400, 48], ['<eps>', 1448, 9], ['adventures', 1457, 76], ['live', 1533, 50], ['<eps>', 1583, 81], ['reporting', 1664, 107], ['<eps>', 1771, 6], ['on', 1777, 29], ['significant', 1806, 95], ['<eps>', 1901, 4], ['events', 1905, 53], ['while', 1958, 45], ['traveling', 2003, 62], ['in', 2065, 18], ['<eps>', 2083, 15], ['the', 2098, 19], ['world', 2117, 54], ['<eps>', 2171, 81], ['could', 2252, 19], ['anything', 2271, 61], ['be', 2332, 14], ['more', 2346, 27], ['exciting', 2373, 58], ['than', 2431, 19], ['that', 2450, 46], ['<eps>', 2496, 50], ['or', 2546, 17], ['maybe', 2563, 46], ['jason', 2609, 62], ['might', 2671, 34], ['enjoy', 2705, 38], ['a', 2743, 12], ['career', 2755, 66], ['<eps>', 2821, 21], ['as', 2842, 21], ['an', 2863, 12], ['astronaut', 2875, 91], ['<eps>', 2966, 26], ['exploring', 2992, 65], ['space', 3057, 65], ['<eps>', 3122, 44], ['and', 3166, 20], ['conduct', 3186, 69], ['<eps>', 3255, 25], ['conducting', 3280, 100], ['<eps>', 3380, 19], ['scientific', 3399, 101], ['research', 3500, 90], ['<eps>', 3590, 52], ['seems', 3642, 56], ['<eps>', 3698, 3], ['exhilarating', 3701, 115], ['<eps>', 3816, 78], ['when', 3894, 22], ['he', 3916, 26], ['was', 3942, 21], ['younger', 3963, 47], ['jason', 4010, 60], ['spent', 4070, 43], ['countless', 4113, 59], ['hours', 4172, 78], ['building', 4250, 53], ['with', 4303, 26], ['blocks', 4329, 60], ['<eps>', 4389, 56], ['so', 4445, 17], ['he', 4462, 23], ['maybe', 4485, 53], ['enjoy', 4538, 56], ['becoming', 4594, 61], ['an', 4655, 41], ['<eps>', 4696, 47], ['architect', 4743, 96], ['<eps>', 4839, 180], [\"it's\", 5019, 24], ['fun', 5043, 43], ['to', 5086, 26], ['have', 5112, 50], ['so', 5162, 27], ['many', 5189, 34], ['options', 5223, 69], ['<eps>', 5292, 3], ['jason', 5295, 52], ['thought', 5347, 36], ['to', 5383, 11], ['himself', 5394, 60], ['<eps>', 5454, 39], ['for', 5493, 13], ['now', 5506, 33], ['jason', 5539, 57], ['is', 5596, 39], ['<eps>', 5635, 46], ['content', 5681, 75], ['being', 5756, 33], ['a', 5789, 4], ['student', 5793, 73], ['<eps>', 5866, 58], ['he', 5924, 33], ['can', 5957, 22], ['keep', 5979, 19]], 'StrippedPosDiff': 0.1719630310755348, 'StrippedNegDiff': 0.11248122055597393, 'StrippedMinorDiff': 0.02242990647402421, 'NoPausePosDiff': 0.172413792183362, 'NoPauseNegDiff': 0.0517241376550086, 'NoPauseMinorDiff': 0.0258620688275043}\n"
     ]
    }
   ],
   "source": [
    "for ex in reading_examples:\n",
    "    print(fe(ex))\n",
    "    break"
   ]
  },
  {
   "cell_type": "code",
   "execution_count": null,
   "metadata": {},
   "outputs": [],
   "source": []
  }
 ],
 "metadata": {
  "kernelspec": {
   "display_name": "Python 3",
   "language": "python",
   "name": "python3"
  },
  "language_info": {
   "codemirror_mode": {
    "name": "ipython",
    "version": 3
   },
   "file_extension": ".py",
   "mimetype": "text/x-python",
   "name": "python",
   "nbconvert_exporter": "python",
   "pygments_lexer": "ipython3",
   "version": "3.7.3"
  }
 },
 "nbformat": 4,
 "nbformat_minor": 2
}
