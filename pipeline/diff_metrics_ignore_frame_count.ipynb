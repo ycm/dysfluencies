{
 "cells": [
  {
   "cell_type": "markdown",
   "metadata": {},
   "source": [
    "Difference metrics, without regard for frame count"
   ]
  },
  {
   "cell_type": "code",
   "execution_count": 1,
   "metadata": {},
   "outputs": [],
   "source": [
    "import sys\n",
    "import difflib\n",
    "import json\n",
    "import copy\n",
    "sys.path.append('util')\n",
    "import condense"
   ]
  },
  {
   "cell_type": "code",
   "execution_count": 2,
   "metadata": {},
   "outputs": [],
   "source": [
    "def only_tokens(lst):\n",
    "    return [x[0] + '\\n' for x in lst]"
   ]
  },
  {
   "cell_type": "code",
   "execution_count": 3,
   "metadata": {},
   "outputs": [],
   "source": [
    "def compute_diff(l1, l2):\n",
    "    diff = ''.join([\n",
    "        x.strip() + '\\n'\n",
    "        for x in difflib.ndiff(only_tokens(l1), only_tokens(l2))\n",
    "    ])\n",
    "    diff = [x for x in diff.split('\\n') if x]\n",
    "    pos_diff = [x for x in diff if x[0] == '+']\n",
    "    neg_diff = [x for x in diff if x[0] == '-']\n",
    "    minor_diff = [x for x in diff if x[0] == '?']\n",
    "    return pos_diff, neg_diff, minor_diff"
   ]
  },
  {
   "cell_type": "code",
   "execution_count": 4,
   "metadata": {},
   "outputs": [],
   "source": [
    "with open('res/model_readings/item_to_session_to_alignment_with_pauses_no_leading_or_trailing.json') as f:\n",
    "    gold_stripped = json.load(f)"
   ]
  },
  {
   "cell_type": "code",
   "execution_count": 5,
   "metadata": {},
   "outputs": [],
   "source": [
    "with open('res/model_readings/item_to_session_to_alignment_no_pauses.json') as f:\n",
    "    gold_no_pause = json.load(f)"
   ]
  },
  {
   "cell_type": "code",
   "execution_count": 6,
   "metadata": {},
   "outputs": [
    {
     "name": "stdout",
     "output_type": "stream",
     "text": [
      "Featurizing 70 examples:\n",
      "Featurized example 10.\n",
      "Featurized example 20.\n",
      "Featurized example 30.\n",
      "Featurized example 40.\n",
      "Featurized example 50.\n",
      "Featurized example 60.\n",
      "Featurized example 70.\n"
     ]
    }
   ],
   "source": [
    "with open('res/reading_examples_numerized.json') as f:\n",
    "    reading_examples = json.load(f)\n",
    "\n",
    "print('Featurizing {} examples:'.format(len(reading_examples)))\n",
    "    \n",
    "diff_types = [\n",
    "    'StrippedPosDiff',\n",
    "    'StrippedNegDiff',\n",
    "    'StrippedMinorDiff',\n",
    "    'NoPausePosDiff',\n",
    "    'NoPauseNegDiff',\n",
    "    'NoPauseMinorDiff'\n",
    "]\n",
    "    \n",
    "for ex_i, reading in enumerate(reading_examples):\n",
    "    passage_id = reading['PassageID']\n",
    "    original_alignment = copy.deepcopy(reading['Words'])\n",
    "    collapsed_pauses_alignment = condense.collapse_adjacent_pauses(original_alignment)\n",
    "    stripped_alignment = condense.remove_leading_and_trailing_pauses(collapsed_pauses_alignment)\n",
    "    merged_pauses_alignment = condense.merge_pauses(stripped_alignment)\n",
    "    \n",
    "    curr_diff_values = []\n",
    "    \n",
    "    avg_diffs = [0, 0, 0]\n",
    "    curr_diff_values.extend([\n",
    "        a / len(gold_stripped[passage_id])\n",
    "        for a in [\n",
    "            x + y\n",
    "            for k, v in gold_stripped[passage_id].items()\n",
    "            for x, y in zip([len(x) for x in compute_diff(stripped_alignment, v)], avg_diffs)\n",
    "    ]])\n",
    "    \n",
    "    avg_diffs = [0, 0, 0]\n",
    "    curr_diff_values.extend([\n",
    "        x / len(gold_stripped[passage_id])\n",
    "        for x in [\n",
    "            x + y\n",
    "            for k, v in gold_no_pause[passage_id].items()\n",
    "            for x, y in zip([len(x) for x in compute_diff(merged_pauses_alignment, v)], avg_diffs)\n",
    "    ]])\n",
    "    \n",
    "    for idx, diff_type in enumerate(diff_types):\n",
    "        reading[diff_type] = curr_diff_values[idx]\n",
    "    if not (ex_i + 1) % 10:\n",
    "        print('Featurized example {}.'.format(ex_i + 1))"
   ]
  },
  {
   "cell_type": "code",
   "execution_count": 7,
   "metadata": {},
   "outputs": [],
   "source": [
    "with open('res/reading_examples_with_token_features.json', 'w') as f:\n",
    "    json.dump(reading_examples, f, indent=2)"
   ]
  }
 ],
 "metadata": {
  "kernelspec": {
   "display_name": "Python 3",
   "language": "python",
   "name": "python3"
  },
  "language_info": {
   "codemirror_mode": {
    "name": "ipython",
    "version": 3
   },
   "file_extension": ".py",
   "mimetype": "text/x-python",
   "name": "python",
   "nbconvert_exporter": "python",
   "pygments_lexer": "ipython3",
   "version": "3.7.3"
  }
 },
 "nbformat": 4,
 "nbformat_minor": 2
}
