{
 "cells": [
  {
   "cell_type": "code",
   "execution_count": 1,
   "metadata": {},
   "outputs": [],
   "source": [
    "import sys, os, json, random\n",
    "from collections import *"
   ]
  },
  {
   "cell_type": "code",
   "execution_count": 2,
   "metadata": {},
   "outputs": [
    {
     "name": "stdout",
     "output_type": "stream",
     "text": [
      "collapse_silence.ipynb\r\n",
      "compare_gold_alignments.ipynb\r\n",
      "\u001b[1m\u001b[32mcompare_gold_readings.py\u001b[m\u001b[m*\r\n",
      "f0s.csv\r\n",
      "item_to_reading.json\r\n",
      "item_to_session_to_alignment.json\r\n",
      "item_to_session_to_alignment_collapsed_pauses.json\r\n",
      "recs.csv\r\n",
      "recwords.csv\r\n",
      "\u001b[1m\u001b[32mserialize_forced_alignments.ipynb\u001b[m\u001b[m*\r\n",
      "xTrans.csv\r\n"
     ]
    }
   ],
   "source": [
    "ls"
   ]
  },
  {
   "cell_type": "code",
   "execution_count": 3,
   "metadata": {},
   "outputs": [],
   "source": [
    "def collapse_alignment(align):\n",
    "    idx = 0\n",
    "    current_items = []\n",
    "    condensed_align = []\n",
    "    for item in align:\n",
    "        curr_token, sframe, nframes = item\n",
    "        if '<' not in curr_token:\n",
    "            if current_items:\n",
    "                if len(current_items) == 1:\n",
    "                    current_items = current_items[0]\n",
    "                condensed_align.append(current_items)\n",
    "            condensed_align.append(item)\n",
    "            current_items = []\n",
    "        else:\n",
    "            current_items.append(item)\n",
    "    if current_items:\n",
    "        if len(current_items) == 1:\n",
    "            current_items = current_items[0]\n",
    "        condensed_align.append(current_items)\n",
    "    for i in range(len(condensed_align)):\n",
    "        if type(condensed_align[i][0]) == type([]):\n",
    "            first_sframe = condensed_align[i][0][1]\n",
    "            total_nframes = sum(x[2] for x in condensed_align[i])\n",
    "            condensed_align[i] = ['<pause>', first_sframe, total_nframes]\n",
    "    for i, elem in enumerate(condensed_align):\n",
    "        if '<' not in elem[0]:\n",
    "            continue\n",
    "        condensed_align[i] = ['<pause>', elem[1], elem[2]]\n",
    "    return condensed_align"
   ]
  },
  {
   "cell_type": "code",
   "execution_count": 4,
   "metadata": {},
   "outputs": [],
   "source": [
    "with open('item_to_session_to_alignment.json') as f:\n",
    "    item_to_session_to_alignment = json.load(f)"
   ]
  },
  {
   "cell_type": "code",
   "execution_count": 5,
   "metadata": {},
   "outputs": [],
   "source": [
    "condensed_item_to_session_to_alignment = defaultdict(lambda: defaultdict(list))\n",
    "for item, session_to_alignment in item_to_session_to_alignment.items():\n",
    "    for session, alignments in session_to_alignment.items():\n",
    "        condensed = collapse_alignment(alignments)\n",
    "        condensed_item_to_session_to_alignment[item][session] = condensed"
   ]
  },
  {
   "cell_type": "code",
   "execution_count": 6,
   "metadata": {},
   "outputs": [],
   "source": [
    "condensed_dict = {k: dict(v) for k, v in condensed_item_to_session_to_alignment.items()}"
   ]
  },
  {
   "cell_type": "code",
   "execution_count": 7,
   "metadata": {},
   "outputs": [],
   "source": [
    "# with open('item_to_session_to_alignment_collapsed_pauses.json', 'x') as f:\n",
    "#     json.dump(condensed_dict, f, indent=2)"
   ]
  }
 ],
 "metadata": {
  "kernelspec": {
   "display_name": "Python 3",
   "language": "python",
   "name": "python3"
  },
  "language_info": {
   "codemirror_mode": {
    "name": "ipython",
    "version": 3
   },
   "file_extension": ".py",
   "mimetype": "text/x-python",
   "name": "python",
   "nbconvert_exporter": "python",
   "pygments_lexer": "ipython3",
   "version": "3.7.3"
  }
 },
 "nbformat": 4,
 "nbformat_minor": 2
}
