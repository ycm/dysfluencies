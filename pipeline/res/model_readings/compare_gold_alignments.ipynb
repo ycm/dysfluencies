{
 "cells": [
  {
   "cell_type": "code",
   "execution_count": 1,
   "metadata": {},
   "outputs": [],
   "source": [
    "import sys, os, json, itertools\n",
    "import numpy as np\n",
    "import pandas as pd"
   ]
  },
  {
   "cell_type": "code",
   "execution_count": 2,
   "metadata": {},
   "outputs": [],
   "source": [
    "with open('item_to_session_to_alignment.json') as f:\n",
    "    item_to_session_to_alignment = json.load(f)"
   ]
  },
  {
   "cell_type": "code",
   "execution_count": 3,
   "metadata": {},
   "outputs": [],
   "source": [
    "# wikisource\n",
    "def levenshtein(s1, s2):\n",
    "    if len(s1) < len(s2):\n",
    "        return levenshtein(s2, s1)\n",
    "    if len(s2) == 0:\n",
    "        return len(s1)\n",
    "    previous_row = range(len(s2) + 1)\n",
    "    for i, c1 in enumerate(s1):\n",
    "        current_row = [i + 1]\n",
    "        for j, c2 in enumerate(s2):\n",
    "            insertions = previous_row[j + 1] + 1 # j+1 instead of j since previous_row and current_row are one character longer\n",
    "            deletions = current_row[j] + 1       # than s2\n",
    "            substitutions = previous_row[j] + (c1 != c2)\n",
    "            current_row.append(min(insertions, deletions, substitutions))\n",
    "        previous_row = current_row\n",
    "    return previous_row[-1]"
   ]
  },
  {
   "cell_type": "code",
   "execution_count": 4,
   "metadata": {},
   "outputs": [
    {
     "name": "stdout",
     "output_type": "stream",
     "text": [
      "1505 7.0\n",
      "1703 12.5\n",
      "1902 15.5\n",
      "2101 7.75\n",
      "2003 19.5\n",
      "2102 5.5\n",
      "2203 10.5\n",
      "2304 13.0\n",
      "2602 15.25\n",
      "2603 13.5\n",
      "2704 6.25\n",
      "2701 10.0\n",
      "2801 13.0\n",
      "2802 18.5\n",
      "2803 18.75\n",
      "2904 12.0\n",
      "2902 14.75\n",
      "2901 18.75\n",
      "3001 14.0\n",
      "3003 23.75\n",
      "3201 28.75\n",
      "3202 14.25\n",
      "3401 14.0\n",
      "1502 9.5\n",
      "4701 9.0\n",
      "3302 17.25\n",
      "3402 13.25\n"
     ]
    }
   ],
   "source": [
    "for item, session_to_alignment in item_to_session_to_alignment.items():\n",
    "    tokens_across_readers = [\n",
    "        [x[0] for x in alignment]\n",
    "        for session, alignment in session_to_alignment.items()\n",
    "    ]\n",
    "    n_readings = len(tokens_across_readers)\n",
    "    avg_lev_across_readings = sum([\n",
    "        levenshtein(tokens_across_readers[pair[0]], tokens_across_readers[pair[1]])\n",
    "        for pair in itertools.combinations(range(n_readings), 2)\n",
    "    ]) / n_readings\n",
    "    print(item, avg_lev_across_readings)"
   ]
  },
  {
   "cell_type": "code",
   "execution_count": 5,
   "metadata": {},
   "outputs": [],
   "source": [
    "with open('item_to_session_to_alignment_collapsed_pauses.json') as f:\n",
    "    condensed = json.load(f)"
   ]
  },
  {
   "cell_type": "code",
   "execution_count": 6,
   "metadata": {},
   "outputs": [
    {
     "name": "stdout",
     "output_type": "stream",
     "text": [
      "1505 5.5\n",
      "1703 11.75\n",
      "1902 13.75\n",
      "2101 6.25\n",
      "2003 18.75\n",
      "2102 4.0\n",
      "2203 9.75\n",
      "2304 11.25\n",
      "2602 13.25\n",
      "2603 11.75\n",
      "2704 4.75\n",
      "2701 8.25\n",
      "2801 11.25\n",
      "2802 16.75\n",
      "2803 17.0\n",
      "2904 10.0\n",
      "2902 13.25\n",
      "2901 17.25\n",
      "3001 12.25\n",
      "3003 22.0\n",
      "3201 27.0\n",
      "3202 13.5\n",
      "3401 13.25\n",
      "1502 8.75\n",
      "4701 8.0\n",
      "3302 15.5\n",
      "3402 11.5\n"
     ]
    }
   ],
   "source": [
    "for item, session_to_alignment in condensed.items():\n",
    "    tokens_across_readers = [\n",
    "        [x[0] for x in alignment]\n",
    "        for session, alignment in session_to_alignment.items()\n",
    "    ]\n",
    "    n_readings = len(tokens_across_readers)\n",
    "    avg_lev_across_readings = sum([\n",
    "        levenshtein(tokens_across_readers[pair[0]], tokens_across_readers[pair[1]])\n",
    "        for pair in itertools.combinations(range(n_readings), 2)\n",
    "    ]) / n_readings\n",
    "    print(item, avg_lev_across_readings)"
   ]
  },
  {
   "cell_type": "code",
   "execution_count": 7,
   "metadata": {},
   "outputs": [],
   "source": [
    "with open('item_to_session_to_alignment_no_pauses.json') as f:\n",
    "    item_to_session_to_alignment_no_pauses = json.load(f)"
   ]
  },
  {
   "cell_type": "code",
   "execution_count": 8,
   "metadata": {},
   "outputs": [
    {
     "name": "stdout",
     "output_type": "stream",
     "text": [
      "1505 0.0\n",
      "1703 0.0\n",
      "1902 0.0\n",
      "2101 0.0\n",
      "2003 0.0\n",
      "2102 0.0\n",
      "2203 0.0\n",
      "2304 0.0\n",
      "2602 0.0\n",
      "2603 0.0\n",
      "2704 0.0\n",
      "2701 0.0\n",
      "2801 0.0\n",
      "2802 0.0\n",
      "2803 0.0\n",
      "2904 0.0\n",
      "2902 0.0\n",
      "2901 0.0\n",
      "3001 0.0\n",
      "3003 0.0\n",
      "3201 0.0\n",
      "3202 0.0\n",
      "3401 0.0\n",
      "1502 0.0\n",
      "4701 0.0\n",
      "3302 0.0\n",
      "3402 0.0\n"
     ]
    }
   ],
   "source": [
    "for item, session_to_alignment in item_to_session_to_alignment_no_pauses.items():\n",
    "    tokens_across_readers = [\n",
    "        [x[0] for x in alignment]\n",
    "        for session, alignment in session_to_alignment.items()\n",
    "    ]\n",
    "    n_readings = len(tokens_across_readers)\n",
    "    avg_lev_across_readings = sum([\n",
    "        levenshtein(tokens_across_readers[pair[0]], tokens_across_readers[pair[1]])\n",
    "        for pair in itertools.combinations(range(n_readings), 2)\n",
    "    ]) / n_readings\n",
    "    print(item, avg_lev_across_readings)"
   ]
  }
 ],
 "metadata": {
  "kernelspec": {
   "display_name": "Python 3",
   "language": "python",
   "name": "python3"
  },
  "language_info": {
   "codemirror_mode": {
    "name": "ipython",
    "version": 3
   },
   "file_extension": ".py",
   "mimetype": "text/x-python",
   "name": "python",
   "nbconvert_exporter": "python",
   "pygments_lexer": "ipython3",
   "version": "3.7.3"
  }
 },
 "nbformat": 4,
 "nbformat_minor": 2
}
