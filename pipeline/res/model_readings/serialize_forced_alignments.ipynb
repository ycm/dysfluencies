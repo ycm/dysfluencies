{
 "cells": [
  {
   "cell_type": "code",
   "execution_count": 1,
   "metadata": {},
   "outputs": [],
   "source": [
    "import sys, os, json\n",
    "from collections import *\n",
    "import numpy as np\n",
    "import pandas as pd"
   ]
  },
  {
   "cell_type": "code",
   "execution_count": null,
   "metadata": {},
   "outputs": [],
   "source": []
  },
  {
   "cell_type": "code",
   "execution_count": 27,
   "metadata": {},
   "outputs": [],
   "source": [
    "gold_alignments = pd.read_csv('recwords.csv')[['item', 'session', 'sframe', 'nframes', 'word']]"
   ]
  },
  {
   "cell_type": "code",
   "execution_count": 28,
   "metadata": {},
   "outputs": [
    {
     "data": {
      "text/html": [
       "<div>\n",
       "<style scoped>\n",
       "    .dataframe tbody tr th:only-of-type {\n",
       "        vertical-align: middle;\n",
       "    }\n",
       "\n",
       "    .dataframe tbody tr th {\n",
       "        vertical-align: top;\n",
       "    }\n",
       "\n",
       "    .dataframe thead th {\n",
       "        text-align: right;\n",
       "    }\n",
       "</style>\n",
       "<table border=\"1\" class=\"dataframe\">\n",
       "  <thead>\n",
       "    <tr style=\"text-align: right;\">\n",
       "      <th></th>\n",
       "      <th>item</th>\n",
       "      <th>session</th>\n",
       "      <th>sframe</th>\n",
       "      <th>nframes</th>\n",
       "      <th>word</th>\n",
       "    </tr>\n",
       "  </thead>\n",
       "  <tbody>\n",
       "    <tr>\n",
       "      <th>0</th>\n",
       "      <td>1505</td>\n",
       "      <td>14174</td>\n",
       "      <td>0</td>\n",
       "      <td>96</td>\n",
       "      <td>&lt;eps&gt;</td>\n",
       "    </tr>\n",
       "    <tr>\n",
       "      <th>1</th>\n",
       "      <td>1505</td>\n",
       "      <td>14174</td>\n",
       "      <td>96</td>\n",
       "      <td>7</td>\n",
       "      <td>&lt;c1&gt;</td>\n",
       "    </tr>\n",
       "    <tr>\n",
       "      <th>2</th>\n",
       "      <td>1505</td>\n",
       "      <td>14174</td>\n",
       "      <td>103</td>\n",
       "      <td>52</td>\n",
       "      <td>rocky</td>\n",
       "    </tr>\n",
       "    <tr>\n",
       "      <th>3</th>\n",
       "      <td>1505</td>\n",
       "      <td>14174</td>\n",
       "      <td>155</td>\n",
       "      <td>44</td>\n",
       "      <td>barks</td>\n",
       "    </tr>\n",
       "    <tr>\n",
       "      <th>4</th>\n",
       "      <td>1505</td>\n",
       "      <td>14174</td>\n",
       "      <td>199</td>\n",
       "      <td>17</td>\n",
       "      <td>at</td>\n",
       "    </tr>\n",
       "  </tbody>\n",
       "</table>\n",
       "</div>"
      ],
      "text/plain": [
       "   item  session  sframe  nframes   word\n",
       "0  1505    14174       0       96  <eps>\n",
       "1  1505    14174      96        7   <c1>\n",
       "2  1505    14174     103       52  rocky\n",
       "3  1505    14174     155       44  barks\n",
       "4  1505    14174     199       17     at"
      ]
     },
     "execution_count": 28,
     "metadata": {},
     "output_type": "execute_result"
    }
   ],
   "source": [
    "gold_alignments.head()"
   ]
  },
  {
   "cell_type": "code",
   "execution_count": 31,
   "metadata": {},
   "outputs": [],
   "source": [
    "item_to_session_to_transcript = defaultdict(lambda: defaultdict(list))\n",
    "for idx, row in gold_alignments.iterrows():\n",
    "    item_to_session_to_transcript[row['item']][row['session']].append([row['word'], row['sframe'], row['nframes']])"
   ]
  },
  {
   "cell_type": "code",
   "execution_count": 36,
   "metadata": {},
   "outputs": [],
   "source": [
    "item_to_session_to_transcript = dict({k: dict(v) for k, v in item_to_session_to_transcript.items()})"
   ]
  },
  {
   "cell_type": "code",
   "execution_count": 37,
   "metadata": {},
   "outputs": [],
   "source": [
    "# with open('item_to_session_to_alignment.json', 'x') as f:\n",
    "#     json.dump(item_to_session_to_transcript, f, indent=2)"
   ]
  }
 ],
 "metadata": {
  "kernelspec": {
   "display_name": "Python 3",
   "language": "python",
   "name": "python3"
  },
  "language_info": {
   "codemirror_mode": {
    "name": "ipython",
    "version": 3
   },
   "file_extension": ".py",
   "mimetype": "text/x-python",
   "name": "python",
   "nbconvert_exporter": "python",
   "pygments_lexer": "ipython3",
   "version": "3.7.3"
  }
 },
 "nbformat": 4,
 "nbformat_minor": 2
}
