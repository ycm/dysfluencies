{
 "cells": [
  {
   "cell_type": "markdown",
   "metadata": {},
   "source": [
    "- strip leading and trailing pauses\n",
    "- iterate from second token to last token\n",
    "    - for each pass, check previous token"
   ]
  },
  {
   "cell_type": "code",
   "execution_count": 1,
   "metadata": {},
   "outputs": [],
   "source": [
    "import sys, json\n",
    "from collections import *"
   ]
  },
  {
   "cell_type": "code",
   "execution_count": 2,
   "metadata": {},
   "outputs": [],
   "source": [
    "with open('item_to_session_to_alignment_collapsed_pauses.json') as f:\n",
    "    condensed = json.load(f)"
   ]
  },
  {
   "cell_type": "code",
   "execution_count": 3,
   "metadata": {},
   "outputs": [],
   "source": [
    "def iter_dict(d):\n",
    "    for k1, k2v in d.items():\n",
    "        for k2, v in k2v.items():\n",
    "            yield k1, k2, v"
   ]
  },
  {
   "cell_type": "code",
   "execution_count": 4,
   "metadata": {},
   "outputs": [],
   "source": [
    "# strip leading and trailing pauses\n",
    "stripped_i2s2a = defaultdict(lambda: defaultdict(list))\n",
    "for item, session, alignment in iter_dict(condensed):\n",
    "    assert(len(alignment)) > 4\n",
    "    if alignment[0][0] == '<pause>':\n",
    "        pause_length = alignment[0][-1]\n",
    "        for idx in range(len(alignment))[1:]:\n",
    "            alignment[idx][1] -= pause_length\n",
    "        alignment = alignment[1:]\n",
    "    if alignment[-1][0] == '<pause>':\n",
    "        alignment = alignment[:-1]\n",
    "    stripped_i2s2a[item][session] = alignment"
   ]
  },
  {
   "cell_type": "code",
   "execution_count": 5,
   "metadata": {},
   "outputs": [],
   "source": [
    "# merge pauses with next word, prolonging length of next word\n",
    "collapsed_i2s2a = defaultdict(lambda: defaultdict(list))\n",
    "for item, session, alignment in iter_dict(stripped_i2s2a):\n",
    "    new_alignment = []\n",
    "    for i in range(len(alignment))[1:]:\n",
    "        if alignment[i - 1][0] == '<pause>':\n",
    "            alignment[i][1] = alignment[i - 1][1]\n",
    "            alignment[i][-1] += alignment[i - 1][-1]\n",
    "        else:\n",
    "            new_alignment.append(alignment[i - 1])\n",
    "    collapsed_i2s2a[item][session] = [*new_alignment, alignment[-1]]"
   ]
  },
  {
   "cell_type": "code",
   "execution_count": 6,
   "metadata": {},
   "outputs": [],
   "source": [
    "# sanity check\n",
    "for item, session, alignment in iter_dict(collapsed_i2s2a):\n",
    "    for idx, item in enumerate(alignment[:-1]):\n",
    "        assert item[1] + item[-1] == alignment[idx + 1][1]\n",
    "        assert '<' not in item[0]"
   ]
  },
  {
   "cell_type": "code",
   "execution_count": 7,
   "metadata": {},
   "outputs": [],
   "source": [
    "with open('item_to_session_to_alignment_no_pauses.json', 'x') as f:\n",
    "    json.dump(collapsed_i2s2a, f, indent=2)"
   ]
  }
 ],
 "metadata": {
  "kernelspec": {
   "display_name": "Python 3",
   "language": "python",
   "name": "python3"
  },
  "language_info": {
   "codemirror_mode": {
    "name": "ipython",
    "version": 3
   },
   "file_extension": ".py",
   "mimetype": "text/x-python",
   "name": "python",
   "nbconvert_exporter": "python",
   "pygments_lexer": "ipython3",
   "version": "3.7.3"
  }
 },
 "nbformat": 4,
 "nbformat_minor": 2
}
