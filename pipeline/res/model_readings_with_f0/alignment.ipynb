{
 "cells": [
  {
   "cell_type": "markdown",
   "metadata": {},
   "source": [
    "Util for alignments under module `condense_new` in `dysfluencies/pipeline/util/condense_new.py`"
   ]
  },
  {
   "cell_type": "code",
   "execution_count": 78,
   "metadata": {},
   "outputs": [],
   "source": [
    "import difflib\n",
    "import json\n",
    "import numpy as np\n",
    "import pandas as pd\n",
    "from collections import defaultdict\n",
    "from copy import deepcopy"
   ]
  },
  {
   "cell_type": "code",
   "execution_count": 4,
   "metadata": {},
   "outputs": [],
   "source": [
    "kid_recwords = pd.read_csv('kid_recwords_f0s.csv')"
   ]
  },
  {
   "cell_type": "code",
   "execution_count": 14,
   "metadata": {},
   "outputs": [],
   "source": [
    "assert len(set(kid_recwords.original_session)) == 70"
   ]
  },
  {
   "cell_type": "code",
   "execution_count": 15,
   "metadata": {},
   "outputs": [],
   "source": [
    "model_recwords = pd.read_csv('model_recwords_f0s.csv')"
   ]
  },
  {
   "cell_type": "code",
   "execution_count": 16,
   "metadata": {},
   "outputs": [],
   "source": [
    "assert len(set(model_recwords['item'])) == 27"
   ]
  },
  {
   "cell_type": "code",
   "execution_count": 32,
   "metadata": {},
   "outputs": [],
   "source": [
    "with open('../reading_examples_with_token_features_normalized.json') as f:\n",
    "    reading_examples = json.load(f)\n",
    "    reader_to_item = {int(ex['ReaderID']): int(ex['PassageID']) for ex in reading_examples}"
   ]
  },
  {
   "cell_type": "code",
   "execution_count": 45,
   "metadata": {},
   "outputs": [],
   "source": [
    "reader_to_alignment = defaultdict(list)\n",
    "for idx, row in kid_recwords.iterrows():\n",
    "    reader_id = row.original_session\n",
    "    word = row.word if '<' not in row.word else '<pause>'\n",
    "    align = [word, row.sframe, row.nframes, row.f0s]\n",
    "    reader_to_alignment[reader_id].append(align)"
   ]
  },
  {
   "cell_type": "code",
   "execution_count": 46,
   "metadata": {},
   "outputs": [],
   "source": [
    "reader_to_alignment = dict(reader_to_alignment)"
   ]
  },
  {
   "cell_type": "code",
   "execution_count": 74,
   "metadata": {},
   "outputs": [],
   "source": [
    "passage_id_to_sessions_to_alignments = defaultdict(lambda: defaultdict(list))\n",
    "for idx, row in model_recwords.iterrows():\n",
    "    passage_id, session = row['item'], row.session\n",
    "    word = row.word if '<' not in row.word else '<pause>'\n",
    "    align = [word, row.sframe, row.nframes, row.f0s]\n",
    "    passage_id_to_sessions_to_alignments[passage_id][session].append(align)\n",
    "passage_id_to_sessions_to_alignments = dict(passage_id_to_sessions_to_alignments)"
   ]
  },
  {
   "cell_type": "code",
   "execution_count": 77,
   "metadata": {},
   "outputs": [],
   "source": [
    "# with open('../reader_to_item.json', 'x') as f:\n",
    "#     json.dump(reader_to_item, f, indent=2)\n",
    "# with open('../reader_to_alignment.json', 'x') as f:\n",
    "#     json.dump(reader_to_alignment, f, indent=2)\n",
    "# with open('../passage_id_to_sessions_to_alignments.json', 'x') as f:\n",
    "#     json.dump(passage_id_to_sessions_to_alignments, f, indent=2)"
   ]
  },
  {
   "cell_type": "code",
   "execution_count": 81,
   "metadata": {},
   "outputs": [],
   "source": [
    "sample_alignment = deepcopy(reader_to_alignment[5157])"
   ]
  },
  {
   "cell_type": "code",
   "execution_count": 96,
   "metadata": {},
   "outputs": [],
   "source": [
    "def strip_pauses(alignment):\n",
    "    rv = deepcopy(alignment)\n",
    "    while rv[0][0] == '<pause>':\n",
    "        pause_len = rv[0][2]\n",
    "        for idx in range(len(rv)):\n",
    "            rv[idx][1] -= pause_len\n",
    "        rv = rv[1:]\n",
    "    while rv[-1][0] == '<pause>':\n",
    "        rv = rv[:-1]\n",
    "    return rv"
   ]
  },
  {
   "cell_type": "code",
   "execution_count": 98,
   "metadata": {},
   "outputs": [],
   "source": [
    "def is_valid(alignment):\n",
    "    for idx, term in enumerate(alignment[:-1]):\n",
    "        if term[1] + term[2] != alignment[idx + 1][1]:\n",
    "            return False\n",
    "    return True"
   ]
  },
  {
   "cell_type": "code",
   "execution_count": 187,
   "metadata": {},
   "outputs": [],
   "source": [
    "def collapse_pauses(alignment):\n",
    "    # merge pauses first\n",
    "    merged = []\n",
    "    for idx, term in enumerate(reversed(alignment[1:])):\n",
    "        if term[0] != '<pause>':\n",
    "            merged.append([term])\n",
    "        else:\n",
    "            merged[-1].append(term)\n",
    "    merged = reversed([*merged, [alignment[0]]])\n",
    "    \n",
    "    # collapse null durations into next non-null token\n",
    "    rv = []\n",
    "    for m in merged:\n",
    "        if len(m) == 0:\n",
    "            rv.append(m[0])\n",
    "        else:\n",
    "            sframe = m[-1][1]\n",
    "            nframes = sum(t[2] for t in m)\n",
    "            rv.append([m[0][0], sframe, nframes])\n",
    "    \n",
    "    return rv"
   ]
  },
  {
   "cell_type": "code",
   "execution_count": 188,
   "metadata": {},
   "outputs": [],
   "source": [
    "dummy_alignment = [\n",
    "    ['a', 0, 10],\n",
    "    ['b', 10, 10],\n",
    "    ['c', 20, 10],\n",
    "    ['<pause>', 30, 10],\n",
    "    ['d', 40, 10],\n",
    "    ['<pause>', 50, 10],\n",
    "    ['<pause>', 60, 10],\n",
    "    ['e', 70, 10],\n",
    "    ['f', 80, 10]\n",
    "]"
   ]
  },
  {
   "cell_type": "code",
   "execution_count": 190,
   "metadata": {},
   "outputs": [
    {
     "data": {
      "text/plain": [
       "True"
      ]
     },
     "execution_count": 190,
     "metadata": {},
     "output_type": "execute_result"
    }
   ],
   "source": [
    "is_valid(collapse_pauses(dummy_alignment))"
   ]
  }
 ],
 "metadata": {
  "kernelspec": {
   "display_name": "Python 3",
   "language": "python",
   "name": "python3"
  },
  "language_info": {
   "codemirror_mode": {
    "name": "ipython",
    "version": 3
   },
   "file_extension": ".py",
   "mimetype": "text/x-python",
   "name": "python",
   "nbconvert_exporter": "python",
   "pygments_lexer": "ipython3",
   "version": "3.7.3"
  }
 },
 "nbformat": 4,
 "nbformat_minor": 2
}
